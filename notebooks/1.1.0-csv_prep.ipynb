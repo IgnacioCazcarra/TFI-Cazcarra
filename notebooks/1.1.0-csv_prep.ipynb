{
 "cells": [
  {
   "cell_type": "code",
   "execution_count": 1,
   "id": "b241e49d",
   "metadata": {},
   "outputs": [],
   "source": [
    "from glob import glob\n",
    "import random\n",
    "import os\n",
    "import xml.etree.ElementTree as ET\n",
    "import shutil\n",
    "import numpy as np\n",
    "import pandas as pd"
   ]
  },
  {
   "cell_type": "code",
   "execution_count": 2,
   "id": "731a1dd8",
   "metadata": {},
   "outputs": [],
   "source": [
    "PATH = 'C:\\\\Users\\\\Diego\\\\Desktop\\\\TFI-Cazcarra'"
   ]
  },
  {
   "cell_type": "code",
   "execution_count": 3,
   "id": "a2c6fd00",
   "metadata": {},
   "outputs": [],
   "source": [
    "ELEMENT_TO_TRAIN = \"diagramas\"\n",
    "\n",
    "TRAIN_TEST_SPLIT = 0.7\n",
    "VAL_SPLIT = 0.5"
   ]
  },
  {
   "cell_type": "code",
   "execution_count": 4,
   "id": "18906e94",
   "metadata": {},
   "outputs": [],
   "source": [
    "BASE_DIR_IMG = f\"{PATH}/data/imagenes_{ELEMENT_TO_TRAIN}/\"\n",
    "BASE_DIR_XML = f\"{PATH}/data/xml_{ELEMENT_TO_TRAIN}/\"\n",
    "\n",
    "CLASSES_CSV = f\"{PATH}/data/csv/classes_{ELEMENT_TO_TRAIN}.csv\"\n",
    "TRAIN_CSV = f\"{PATH}/data/csv/train_{ELEMENT_TO_TRAIN}.csv\"\n",
    "TEST_CSV = f\"{PATH}/data/csv/test_{ELEMENT_TO_TRAIN}.csv\"\n",
    "VAL_CSV = f\"{PATH}/data/csv/val_{ELEMENT_TO_TRAIN}.csv\""
   ]
  },
  {
   "cell_type": "code",
   "execution_count": 5,
   "id": "c3bc3b7b",
   "metadata": {},
   "outputs": [],
   "source": [
    "FILES = glob(BASE_DIR_XML+\"*.xml\") + glob(BASE_DIR_IMG+\"*.png\")\n",
    "IMAGES = glob(os.path.join(BASE_DIR_IMG,\"*.png\"))"
   ]
  },
  {
   "cell_type": "code",
   "execution_count": 6,
   "id": "3cd84ed8",
   "metadata": {},
   "outputs": [],
   "source": [
    "CLASSES = ['tabla','muchos_opcional','muchos_obligatorio','uno_opcional','uno_obligatorio']"
   ]
  },
  {
   "cell_type": "code",
   "execution_count": 19,
   "id": "80a616fc",
   "metadata": {},
   "outputs": [],
   "source": [
    "def sep_images(images):\n",
    "    random.shuffle(images)\n",
    "    test_split_n = int(len(IMAGES) * TRAIN_TEST_SPLIT)\n",
    "    val_split_n = int((len(IMAGES)-test_split_n) * VAL_SPLIT)\n",
    "\n",
    "    train_images = IMAGES[:test_split_n]\n",
    "    test_images = IMAGES[test_split_n:(test_split_n+val_split_n)]\n",
    "    val_images = IMAGES[(test_split_n+val_split_n):]\n",
    "    \n",
    "    return train_images, test_images, val_images"
   ]
  },
  {
   "cell_type": "code",
   "execution_count": 43,
   "id": "9940fb8a",
   "metadata": {},
   "outputs": [],
   "source": [
    "def generate_train_test(dataset):    \n",
    "    for (dtype, image_paths, output_csv) in dataset:\n",
    "        print (\"[INFO] creating '{}' set...\".format(dtype))\n",
    "        print (\"[INFO] {} total images in '{}' set\".format(len(image_paths), dtype))\n",
    "\n",
    "        csv = open(output_csv, \"w\")\n",
    "        \n",
    "        header_row = [\"image_path\",\"xmin\", \"ymin\", \"xmax\", \"ymax\", \"label\"]\n",
    "        csv.write(\"{}\\n\".format(\",\".join(header_row)))\n",
    "        \n",
    "        for image_path in image_paths:\n",
    "            fname = image_path.split(\"\\\\\")[-1]\n",
    "            fname = fname[:fname.rfind(\".\")].replace(\"\\\\\",\"\")+\".xml\"\n",
    "            annot_path = BASE_DIR_XML + fname\n",
    "            tree = ET.parse(annot_path)\n",
    "            root = tree.getroot()\n",
    "            size = root.find(\"size\")\n",
    "            h = int(size.find(\"height\").text)\n",
    "            w = int(size.find(\"width\").text)\n",
    "\n",
    "            for label in CLASSES:\n",
    "                for o in tree.iter(\"object\"):\n",
    "                    if o.find(\"name\").text==label:\n",
    "                        box = o.find(\"bndbox\")\n",
    "                        xmin = int(box.find(\"xmin\").text)\n",
    "                        ymin = int(box.find(\"ymin\").text)\n",
    "                        xmax = int(box.find(\"xmax\").text)\n",
    "                        ymax = int(box.find(\"ymax\").text)\n",
    "\n",
    "                        # truncate any bounding box coordinates that fall outside\n",
    "                        # the boundaries of the image\n",
    "                        xmin = max(0, xmin)\n",
    "                        ymin = max(0, ymin)\n",
    "                        xmax = min(w, xmax)\n",
    "                        ymax = min(h, ymax)\n",
    "\n",
    "                        # ignore the bounding boxes where the minimum values are larger\n",
    "                        # than the maximum values and vice-versa due to annotation errors\n",
    "                        if xmin >= xmax or ymin >= ymax:\n",
    "                            continue\n",
    "                        elif xmax <= xmin or ymax <= ymin:\n",
    "                            continue\n",
    "\n",
    "                        row = [os.path.abspath(image_path),str(xmin), str(ymin), str(xmax), str(ymax), str(label)]\n",
    "                        csv.write(\"{}\\n\".format(\",\".join(row)))\n",
    "        csv.close()"
   ]
  },
  {
   "cell_type": "code",
   "execution_count": 14,
   "id": "f8da2e04",
   "metadata": {},
   "outputs": [],
   "source": [
    "def write_classes():\n",
    "    print(\"[INFO] writing classes...\")\n",
    "    csv = open(CLASSES_CSV, \"w\")\n",
    "   \n",
    "    header_row = [\"nombre\", \"encoding\"]\n",
    "    csv.write(\"{}\\n\".format(\",\".join(header_row)))\n",
    "    \n",
    "    rows = [\",\".join([c, str(i+1)]) for (i,c) in enumerate(CLASSES)]\n",
    "    csv.write(\"\\n\".join(rows))\n",
    "    csv.close()"
   ]
  },
  {
   "cell_type": "code",
   "execution_count": 45,
   "id": "0c930671",
   "metadata": {},
   "outputs": [],
   "source": [
    "def split_wrapper():    \n",
    "    train_images, test_images, val_images = sep_images(IMAGES)\n",
    "    dataset = [(\"train\", train_images, TRAIN_CSV), (\"test\", test_images, TEST_CSV), (\"val\", val_images, VAL_CSV)]\n",
    "    #Create and write train and test csv\n",
    "    generate_train_test(dataset)\n",
    "    #Create classes csv\n",
    "    write_classes()"
   ]
  },
  {
   "cell_type": "code",
   "execution_count": 120,
   "id": "2b81ac0a",
   "metadata": {},
   "outputs": [
    {
     "name": "stdout",
     "output_type": "stream",
     "text": [
      "[INFO] creating 'train' set...\n",
      "[INFO] 28 total images in 'train' set\n",
      "[INFO] creating 'test' set...\n",
      "[INFO] 6 total images in 'test' set\n",
      "[INFO] creating 'val' set...\n",
      "[INFO] 6 total images in 'val' set\n",
      "[INFO] writing classes...\n"
     ]
    }
   ],
   "source": [
    "def get_val_count(df):\n",
    "    return df[df.columns[-1]].value_counts()\n",
    "\n",
    "split_wrapper()\n",
    "\n",
    "train = pd.read_csv(TRAIN_CSV)\n",
    "test = pd.read_csv(TEST_CSV)\n",
    "val = pd.read_csv(VAL_CSV)\n",
    "\n",
    "while len(get_val_count(train))<5 or len(get_val_count(test))<5 or len(get_val_count(val))<5:\n",
    "    split_wrapper()\n",
    "    train = pd.read_csv(TRAIN_CSV)\n",
    "    test = pd.read_csv(TEST_CSV)\n",
    "    val = pd.read_csv(VAL_CSV)"
   ]
  },
  {
   "cell_type": "code",
   "execution_count": 121,
   "id": "ae4565e7",
   "metadata": {},
   "outputs": [
    {
     "data": {
      "text/plain": [
       "tabla                 208\n",
       "uno_obligatorio       197\n",
       "muchos_obligatorio    175\n",
       "uno_opcional           34\n",
       "muchos_opcional        21\n",
       "Name: label, dtype: int64"
      ]
     },
     "execution_count": 121,
     "metadata": {},
     "output_type": "execute_result"
    }
   ],
   "source": [
    "get_val_count(train)"
   ]
  },
  {
   "cell_type": "code",
   "execution_count": 122,
   "id": "294d30e2",
   "metadata": {},
   "outputs": [
    {
     "data": {
      "text/plain": [
       "tabla                 33\n",
       "muchos_obligatorio    25\n",
       "uno_obligatorio       25\n",
       "uno_opcional          12\n",
       "muchos_opcional        9\n",
       "Name: label, dtype: int64"
      ]
     },
     "execution_count": 122,
     "metadata": {},
     "output_type": "execute_result"
    }
   ],
   "source": [
    "get_val_count(test)"
   ]
  },
  {
   "cell_type": "code",
   "execution_count": 123,
   "id": "0a89492f",
   "metadata": {},
   "outputs": [
    {
     "data": {
      "text/plain": [
       "tabla                 31\n",
       "uno_obligatorio       25\n",
       "muchos_obligatorio    15\n",
       "uno_opcional           9\n",
       "muchos_opcional        8\n",
       "Name: label, dtype: int64"
      ]
     },
     "execution_count": 123,
     "metadata": {},
     "output_type": "execute_result"
    }
   ],
   "source": [
    "get_val_count(val)"
   ]
  },
  {
   "cell_type": "code",
   "execution_count": null,
   "id": "f9569195",
   "metadata": {},
   "outputs": [],
   "source": []
  }
 ],
 "metadata": {
  "kernelspec": {
   "display_name": "Python 3 (ipykernel)",
   "language": "python",
   "name": "python3"
  },
  "language_info": {
   "codemirror_mode": {
    "name": "ipython",
    "version": 3
   },
   "file_extension": ".py",
   "mimetype": "text/x-python",
   "name": "python",
   "nbconvert_exporter": "python",
   "pygments_lexer": "ipython3",
   "version": "3.9.12"
  }
 },
 "nbformat": 4,
 "nbformat_minor": 5
}
