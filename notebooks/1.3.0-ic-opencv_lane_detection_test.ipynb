{
 "cells": [
  {
   "cell_type": "code",
   "execution_count": null,
   "id": "ae6e67d8",
   "metadata": {},
   "outputs": [],
   "source": [
    "# !pip install opencv-python"
   ]
  },
  {
   "cell_type": "code",
   "execution_count": 1,
   "id": "936f0a4a",
   "metadata": {},
   "outputs": [],
   "source": [
    "import os\n",
    "import cv2\n",
    "import numpy as np\n",
    "import pandas as pd\n",
    "import math\n",
    "import random\n",
    "from PIL import Image\n",
    "from IPython.display import display"
   ]
  },
  {
   "cell_type": "markdown",
   "id": "44ca0a57",
   "metadata": {},
   "source": [
    "## First test"
   ]
  },
  {
   "cell_type": "code",
   "execution_count": 2,
   "id": "b85588c0",
   "metadata": {},
   "outputs": [],
   "source": [
    "def poly_detection(img_path, tablas):\n",
    "    inputImage = cv2.imread(img_path)\n",
    "    inputImageGray = cv2.cvtColor(inputImage, cv2.COLOR_BGR2GRAY)\n",
    "    edges = cv2.Canny(inputImageGray, 150, 200, apertureSize = 3)\n",
    "    \n",
    "    minLineLength = 500\n",
    "    maxLineGap = -1\n",
    "    \n",
    "    for t in tablas:\n",
    "        edges = cv2.rectangle(edges, t[:2], t[2:], color=(0,0,0), thickness=-1)\n",
    "    \n",
    "    display(Image.fromarray(edges))\n",
    "    lines = cv2.HoughLinesP(edges,cv2.HOUGH_PROBABILISTIC, np.pi/180, 10, minLineLength, maxLineGap)\n",
    "    \n",
    "    return lines, inputImage"
   ]
  },
  {
   "cell_type": "code",
   "execution_count": 3,
   "id": "c86be604",
   "metadata": {},
   "outputs": [],
   "source": [
    "def apply_hough(img_path, tablas):\n",
    "    lines, img1 = poly_detection(img_path, tablas)\n",
    "    all_lines = {}\n",
    "    for x in range(0, len(lines)):\n",
    "        for i, (x1,y1,x2,y2) in enumerate(lines[x]):\n",
    "            pts = np.array([[x1, y1 ], [x2 , y2]], np.int32)\n",
    "            cv2.polylines(img1, [pts], True, (0,255,0))\n",
    "            all_lines[str(x)+str(i)] = [[x1, y1 ], [x2 , y2]]\n",
    "#         if x == 20:\n",
    "#             break\n",
    "    return Image.fromarray(img1), all_lines"
   ]
  },
  {
   "cell_type": "code",
   "execution_count": 4,
   "id": "2e5c6b36",
   "metadata": {},
   "outputs": [],
   "source": [
    "def nearest_neighbour(p, points):\n",
    "    dist_dict = {k: math.dist(p, v) for k,v in points.items()}\n",
    "    return min(dist_dict, key=dist_dict.get),  min(dist_dict.values())"
   ]
  },
  {
   "cell_type": "code",
   "execution_count": 5,
   "id": "2f1bc041",
   "metadata": {},
   "outputs": [],
   "source": [
    "def get_key_to_unify(point, points, threshold=25):\n",
    "    nearest_point, dst_point = nearest_neighbour(point, points)\n",
    "    \n",
    "    new = point\n",
    "    key_to_unify = nearest_point.split(\"_\")[0]\n",
    "    if dst_point <= threshold:\n",
    "        if \"start\" in nearest_point:\n",
    "            nearest_point = key_to_unify + \"_end\"\n",
    "        else:\n",
    "            nearest_point = key_to_unify + \"_start\"\n",
    "        new = points[nearest_point]\n",
    "    else:\n",
    "        return (None, None)\n",
    "    \n",
    "    # new -> [184, 204]\n",
    "    # key_to_unify -> 20\n",
    "    return new, key_to_unify"
   ]
  },
  {
   "cell_type": "code",
   "execution_count": 6,
   "id": "6572c576",
   "metadata": {},
   "outputs": [],
   "source": [
    "def validate_points(start, end, new_start, new_end):\n",
    "    \n",
    "    if new_start is None:\n",
    "        new_start = start\n",
    "    if new_end is None:\n",
    "        new_end = end\n",
    "    \n",
    "    dif_start_x = abs(start[0]-new_start[0])\n",
    "    dif_start_y = abs(start[1]-new_start[1])\n",
    "    \n",
    "    dif_end_x = abs(end[0]-new_end[0])\n",
    "    dif_end_y = abs(end[1]-new_end[1])\n",
    "    \n",
    "    if (dif_start_x<=5 and start[1]<=new_start[1]) or (dif_start_y<=5 and start[0]<=new_start[0]):\n",
    "        new_start = start\n",
    "    if (dif_end_x<=5 and end[1]>=new_end[1]) or (dif_end_y<=5 and end[0]>=new_end[0]):\n",
    "        new_end = end\n",
    "    \n",
    "    if new_start == new_end:\n",
    "        if math.dist(start, new_start) <= math.dist(end, new_end):\n",
    "            new_end = end\n",
    "        else:\n",
    "            new_start = start\n",
    "    return new_start, new_end"
   ]
  },
  {
   "cell_type": "code",
   "execution_count": 7,
   "id": "b730254a",
   "metadata": {},
   "outputs": [],
   "source": [
    "def is_between(line, point):\n",
    "    start = line[0]\n",
    "    end = line[1]\n",
    "    \n",
    "    flag = False\n",
    "    matches_x = (abs(start[0]-point[0]) <= 2 or abs(end[0]-point[0]) <= 2)\n",
    "    matches_y = (abs(start[1]-point[1]) <= 2 or abs(end[1]-point[1]) <= 2)\n",
    "    \n",
    "    is_between_y = (point[1] in [n for n in range(start[1], end[1])]) or (point[1] in [n for n in range(end[1], start[1], -1)])\n",
    "    is_between_x = (point[0] in [n for n in range(start[0], end[0])]) or (point[0] in [n for n in range(end[0], start[0], -1)])\n",
    "\n",
    "    # Si la diferencia en X con el inicio es muy poquita y está entre start y end en Y\n",
    "    if matches_x and is_between_y:\n",
    "        flag = True\n",
    "    elif matches_y and is_between_x:\n",
    "        flag = True\n",
    "        \n",
    "    return flag\n",
    "    \n",
    "\n",
    "def delete_stuck_points(line, lines_dict):\n",
    "    to_delete = []\n",
    "    for k,l in lines_dict.items():\n",
    "        if is_between(line=line, point=l[0]) and is_between(line=line, point=l[1]):\n",
    "            print(f\"Deleted line {l}\")\n",
    "            to_delete.append(k)\n",
    "    return to_delete"
   ]
  },
  {
   "cell_type": "code",
   "execution_count": 8,
   "id": "3726d21a",
   "metadata": {},
   "outputs": [
    {
     "name": "stderr",
     "output_type": "stream",
     "text": [
      "C:\\Users\\Diego\\anaconda3\\envs\\tfi\\lib\\site-packages\\numpy\\core\\fromnumeric.py:86: VisibleDeprecationWarning: Creating an ndarray from ragged nested sequences (which is a list-or-tuple of lists-or-tuples-or ndarrays with different lengths or shapes) is deprecated. If you meant to do this, you must specify 'dtype=object' when creating the ndarray.\n",
      "  return ufunc.reduce(obj, axis, dtype, out, **passkwargs)\n"
     ]
    },
    {
     "data": {
      "text/plain": [
       "array([[ 39,   4, 255, 153],\n",
       "       [  3, 183, 219, 314],\n",
       "       [284, 162, 515, 296],\n",
       "       [486,  24, 702, 145],\n",
       "       [405, 312, 622, 404],\n",
       "       [ 20, 351, 237, 404]], dtype=int64)"
      ]
     },
     "execution_count": 8,
     "metadata": {},
     "output_type": "execute_result"
    }
   ],
   "source": [
    "train = pd.read_csv(\"../data/csv/train_diagramas.csv\")\n",
    "val = pd.read_csv(\"../data/csv/val_diagramas.csv\")\n",
    "test = pd.read_csv(\"../data/csv/test_diagramas.csv\")\n",
    "\n",
    "IMG_PATH = \"../data/imagenes_diagramas/ERDiagramsMySQL-6.png\"\n",
    "IMG_BASENAME = os.path.basename(IMG_PATH)\n",
    "\n",
    "tablas = train[train['image_path'].str.contains(IMG_BASENAME) & (train['label']==\"tabla\")][\\\n",
    "                                                                                        ['xmin','ymin','xmax','ymax']].values\n",
    "\n",
    "#Agrandamos un toque las cajas\n",
    "tablas = np.sum([tablas, np.array([-5,-5,5,5]).reshape(1,4)])\n",
    "tablas"
   ]
  },
  {
   "cell_type": "code",
   "execution_count": 9,
   "id": "1ceaaeba",
   "metadata": {
    "scrolled": true
   },
   "outputs": [
    {
     "data": {
      "image/png": "[encoded data removed]",
      "text/plain": [
       "<PIL.Image.Image image mode=L size=724x399>"
      ]
     },
     "metadata": {},
     "output_type": "display_data"
    }
   ],
   "source": [
    "img1, all_lines = apply_hough(img_path=IMG_PATH, tablas=tablas)"
   ]
  },
  {
   "cell_type": "code",
   "execution_count": 10,
   "id": "b83f1890",
   "metadata": {
    "scrolled": true
   },
   "outputs": [
    {
     "name": "stdout",
     "output_type": "stream",
     "text": [
      "Popped start 420\n",
      "Popped start 190\n",
      "Finished detecting line!\n",
      "Popped start 20\n",
      "Popped start 120\n",
      "Popped start 620\n",
      "Popped end 440\n",
      "Popped end 490\n",
      "Popped end 580\n",
      "Popped end 660\n",
      "Finished detecting line!\n",
      "Popped start 40\n",
      "Popped start 150\n",
      "Popped start 280\n",
      "Popped end 610\n",
      "Finished detecting line!\n",
      "Popped start 520\n",
      "Popped start 80\n",
      "Popped start 60\n",
      "Popped start 200\n",
      "Popped start 430\n",
      "Popped start 460\n",
      "Finished detecting line!\n",
      "Popped start 140\n",
      "Popped end 90\n",
      "Popped end 220\n",
      "Finished detecting line!\n",
      "Popped start 160\n",
      "Popped start 260\n",
      "Popped start 270\n",
      "Popped start 230\n",
      "Popped start 250\n",
      "Popped start 480\n",
      "Popped start 550\n",
      "Popped start 210\n",
      "Popped start 390\n",
      "Popped end 540\n",
      "Popped end 330\n",
      "Finished detecting line!\n",
      "Popped start 130\n",
      "Popped start 360\n",
      "Popped start 310\n",
      "Popped start 530\n",
      "Popped start 590\n",
      "Popped end 290\n",
      "Popped end 180\n",
      "Popped end 400\n",
      "Finished detecting line!\n",
      "Popped start 370\n",
      "Popped start 320\n",
      "Popped start 630\n",
      "Popped start 570\n",
      "Popped start 510\n",
      "Popped start 560\n",
      "Finished detecting line!\n",
      "Popped start 470\n",
      "Popped start 410\n",
      "Popped start 650\n",
      "Finished detecting line!\n",
      "Popped start 350\n",
      "Popped start 450\n",
      "Popped start 340\n",
      "Popped start 380\n",
      "Popped start 600\n",
      "Finished detecting line!\n",
      "Popped start 640\n",
      "Finished detecting line!\n"
     ]
    }
   ],
   "source": [
    "from copy import deepcopy\n",
    "\n",
    "final_lines = []\n",
    "main_flag = False\n",
    "i = 0\n",
    "\n",
    "while not main_flag:\n",
    "    popped_start = False\n",
    "    popped_end = False\n",
    "    \n",
    "    if i == 0:\n",
    "        k,v = next(iter(all_lines.items()))\n",
    "        all_lines_aux = deepcopy(all_lines)\n",
    "        all_lines_aux.pop(k)\n",
    "    else:\n",
    "        k,v = next(iter(all_lines_aux.items()))\n",
    "        all_lines_aux.pop(k)\n",
    "        \n",
    "    without_current = {}\n",
    "    for k2,v2 in all_lines_aux.items():\n",
    "        without_current[k2+\"_start\"] = v2[0]\n",
    "        without_current[k2+\"_end\"] = v2[1]\n",
    "\n",
    "    flag = False\n",
    "    while not flag:\n",
    "        start = v[0]\n",
    "        end = v[1]\n",
    "\n",
    "        if len(without_current)==0:\n",
    "            break\n",
    "        \n",
    "        new_start, unify_start = get_key_to_unify(point=start, points=without_current)\n",
    "        new_end, unify_end = get_key_to_unify(point=end, points=without_current)\n",
    "\n",
    "        new_start, new_end = validate_points(start, end, new_start, new_end)\n",
    "\n",
    "        v[0], v[1] = new_start, new_end  \n",
    "\n",
    "        if unify_start is not None:\n",
    "            print(f\"Popped start {unify_start}\")\n",
    "            without_current.pop(unify_start+\"_start\")\n",
    "            without_current.pop(unify_start+\"_end\")\n",
    "            element = all_lines_aux.pop(unify_start)\n",
    "            popped_start = True\n",
    "        elif unify_end is not None:\n",
    "            print(f\"Popped end {unify_end}\")\n",
    "            without_current.pop(unify_end+\"_start\")\n",
    "            without_current.pop(unify_end+\"_end\")\n",
    "            element = all_lines_aux.pop(unify_end)\n",
    "            popped_end = True\n",
    "        \n",
    "        # Si no se actualizó el start y el end, seguimos\n",
    "        if not (popped_start or popped_end):\n",
    "            flag = True\n",
    "\n",
    "        popped_start = False\n",
    "        popped_end = False\n",
    "        \n",
    "    final_lines.append([v[0], v[1]])\n",
    "    to_delete = delete_stuck_points(line=[v[0], v[1]], lines_dict=all_lines_aux)\n",
    "    for el in to_delete:\n",
    "        all_lines_aux.pop(el)\n",
    "        \n",
    "    main_flag = len(all_lines_aux.keys()) < 2\n",
    "    i += 1\n",
    "    print(f\"Finished detecting line!\")"
   ]
  },
  {
   "cell_type": "code",
   "execution_count": 11,
   "id": "998d1c89",
   "metadata": {},
   "outputs": [
    {
     "data": {
      "text/plain": [
       "[[[722, 201], [722, 0]],\n",
       " [[630, 147], [630, 337]],\n",
       " [[259, 349], [400, 356]],\n",
       " [[256, 41], [311, 43]],\n",
       " [[722, 236], [722, 398]],\n",
       " [[220, 216], [278, 207]],\n",
       " [[552, 149], [557, 198]],\n",
       " [[107, 344], [117, 349]],\n",
       " [[522, 205], [528, 198]],\n",
       " [[243, 382], [257, 381]],\n",
       " [[308, 154], [314, 156]]]"
      ]
     },
     "execution_count": 11,
     "metadata": {},
     "output_type": "execute_result"
    }
   ],
   "source": [
    "final_lines"
   ]
  },
  {
   "cell_type": "code",
   "execution_count": 12,
   "id": "0e09fecb",
   "metadata": {},
   "outputs": [
    {
     "data": {
      "image/png": "[encoded data removed]",
      "text/plain": [
       "<PIL.Image.Image image mode=RGB size=724x399>"
      ]
     },
     "execution_count": 12,
     "metadata": {},
     "output_type": "execute_result"
    }
   ],
   "source": [
    "import random\n",
    "\n",
    "for l in final_lines:\n",
    "    pts = np.array(l, np.int32)\n",
    "    img1 = np.array(img1)\n",
    "    random_color = (random.randint(0, 255), random.randint(0, 255), random.randint(0, 255))\n",
    "    cv2.polylines(img1, [pts], True, random_color, 2)\n",
    "Image.fromarray(img1)"
   ]
  },
  {
   "cell_type": "code",
   "execution_count": null,
   "id": "4882e818",
   "metadata": {},
   "outputs": [],
   "source": []
  },
  {
   "cell_type": "code",
   "execution_count": null,
   "id": "af563de3",
   "metadata": {},
   "outputs": [],
   "source": []
  }
 ],
 "metadata": {
  "kernelspec": {
   "display_name": "Python 3 (ipykernel)",
   "language": "python",
   "name": "python3"
  },
  "language_info": {
   "codemirror_mode": {
    "name": "ipython",
    "version": 3
   },
   "file_extension": ".py",
   "mimetype": "text/x-python",
   "name": "python",
   "nbconvert_exporter": "python",
   "pygments_lexer": "ipython3",
   "version": "3.9.15"
  }
 },
 "nbformat": 4,
 "nbformat_minor": 5
}
