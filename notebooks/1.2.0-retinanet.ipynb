{
 "cells": [
  {
   "cell_type": "markdown",
   "id": "6f8bc12c",
   "metadata": {},
   "source": [
    "## Made with guiding \"Finetuning from a pretrained model\"\n",
    "https://pytorch.org/tutorials/intermediate/torchvision_tutorial.html#finetuning-from-a-pretrained-model"
   ]
  },
  {
   "cell_type": "code",
   "execution_count": 1,
   "id": "6a536986",
   "metadata": {},
   "outputs": [
    {
     "ename": "ImportError",
     "evalue": "cannot import name '_mask' from 'src.detection.pycocotools' (C:\\Users\\Diego\\Desktop\\TFI-Cazcarra\\notebooks\\..\\src\\detection\\pycocotools\\__init__.py)",
     "output_type": "error",
     "traceback": [
      "\u001b[1;31m---------------------------------------------------------------------------\u001b[0m",
      "\u001b[1;31mImportError\u001b[0m                               Traceback (most recent call last)",
      "Input \u001b[1;32mIn [1]\u001b[0m, in \u001b[0;36m<cell line: 4>\u001b[1;34m()\u001b[0m\n\u001b[0;32m      1\u001b[0m \u001b[38;5;28;01mimport\u001b[39;00m \u001b[38;5;21;01msys\u001b[39;00m\n\u001b[0;32m      2\u001b[0m sys\u001b[38;5;241m.\u001b[39mpath\u001b[38;5;241m.\u001b[39mappend(\u001b[38;5;124m\"\u001b[39m\u001b[38;5;124m../\u001b[39m\u001b[38;5;124m\"\u001b[39m)\n\u001b[1;32m----> 4\u001b[0m \u001b[38;5;28;01mfrom\u001b[39;00m \u001b[38;5;21;01msrc\u001b[39;00m\u001b[38;5;21;01m.\u001b[39;00m\u001b[38;5;21;01mdetection\u001b[39;00m\u001b[38;5;21;01m.\u001b[39;00m\u001b[38;5;21;01mengine\u001b[39;00m \u001b[38;5;28;01mimport\u001b[39;00m train_one_epoch, evaluate\n",
      "File \u001b[1;32m~\\Desktop\\TFI-Cazcarra\\notebooks\\..\\src\\detection\\engine.py:10\u001b[0m, in \u001b[0;36m<module>\u001b[1;34m\u001b[0m\n\u001b[0;32m      7\u001b[0m \u001b[38;5;28;01mimport\u001b[39;00m \u001b[38;5;21;01mtorch\u001b[39;00m\n\u001b[0;32m      8\u001b[0m \u001b[38;5;28;01mimport\u001b[39;00m \u001b[38;5;21;01mtorchvision\u001b[39;00m\u001b[38;5;21;01m.\u001b[39;00m\u001b[38;5;21;01mmodels\u001b[39;00m\u001b[38;5;21;01m.\u001b[39;00m\u001b[38;5;21;01mdetection\u001b[39;00m\u001b[38;5;21;01m.\u001b[39;00m\u001b[38;5;21;01mmask_rcnn\u001b[39;00m\n\u001b[1;32m---> 10\u001b[0m \u001b[38;5;28;01mfrom\u001b[39;00m \u001b[38;5;21;01m.\u001b[39;00m\u001b[38;5;21;01mcoco_eval\u001b[39;00m \u001b[38;5;28;01mimport\u001b[39;00m CocoEvaluator\n\u001b[0;32m     11\u001b[0m \u001b[38;5;28;01mfrom\u001b[39;00m \u001b[38;5;21;01m.\u001b[39;00m\u001b[38;5;21;01mcoco_utils\u001b[39;00m \u001b[38;5;28;01mimport\u001b[39;00m get_coco_api_from_dataset\n\u001b[0;32m     14\u001b[0m \u001b[38;5;28;01mdef\u001b[39;00m \u001b[38;5;21mtrain_one_epoch\u001b[39m(model, optimizer, data_loader, device, epoch, print_freq, scaler\u001b[38;5;241m=\u001b[39m\u001b[38;5;28;01mNone\u001b[39;00m):\n",
      "File \u001b[1;32m~\\Desktop\\TFI-Cazcarra\\notebooks\\..\\src\\detection\\coco_eval.py:11\u001b[0m, in \u001b[0;36m<module>\u001b[1;34m\u001b[0m\n\u001b[0;32m      7\u001b[0m \u001b[38;5;28;01mimport\u001b[39;00m \u001b[38;5;21;01mtorch\u001b[39;00m\n\u001b[0;32m      8\u001b[0m \u001b[38;5;28;01mfrom\u001b[39;00m \u001b[38;5;21;01mtorchvision\u001b[39;00m \u001b[38;5;28;01mimport\u001b[39;00m utils\n\u001b[1;32m---> 11\u001b[0m \u001b[38;5;28;01mfrom\u001b[39;00m \u001b[38;5;21;01m.\u001b[39;00m\u001b[38;5;21;01mpycocotools\u001b[39;00m\u001b[38;5;21;01m.\u001b[39;00m\u001b[38;5;21;01mcoco\u001b[39;00m \u001b[38;5;28;01mimport\u001b[39;00m COCO\n\u001b[0;32m     12\u001b[0m \u001b[38;5;28;01mfrom\u001b[39;00m \u001b[38;5;21;01m.\u001b[39;00m\u001b[38;5;21;01mpycocotools\u001b[39;00m\u001b[38;5;21;01m.\u001b[39;00m\u001b[38;5;21;01mcocoeval\u001b[39;00m \u001b[38;5;28;01mimport\u001b[39;00m COCOeval\n\u001b[0;32m     15\u001b[0m \u001b[38;5;28;01mclass\u001b[39;00m \u001b[38;5;21;01mCocoEvaluator\u001b[39;00m:\n",
      "File \u001b[1;32m~\\Desktop\\TFI-Cazcarra\\notebooks\\..\\src\\detection\\pycocotools\\coco.py:55\u001b[0m, in \u001b[0;36m<module>\u001b[1;34m\u001b[0m\n\u001b[0;32m     53\u001b[0m \u001b[38;5;28;01mimport\u001b[39;00m \u001b[38;5;21;01mcopy\u001b[39;00m\n\u001b[0;32m     54\u001b[0m \u001b[38;5;28;01mimport\u001b[39;00m \u001b[38;5;21;01mitertools\u001b[39;00m\n\u001b[1;32m---> 55\u001b[0m \u001b[38;5;28;01mfrom\u001b[39;00m \u001b[38;5;21;01m.\u001b[39;00m \u001b[38;5;28;01mimport\u001b[39;00m mask \u001b[38;5;28;01mas\u001b[39;00m maskUtils\n\u001b[0;32m     56\u001b[0m \u001b[38;5;28;01mimport\u001b[39;00m \u001b[38;5;21;01mos\u001b[39;00m\n\u001b[0;32m     57\u001b[0m \u001b[38;5;28;01mfrom\u001b[39;00m \u001b[38;5;21;01mcollections\u001b[39;00m \u001b[38;5;28;01mimport\u001b[39;00m defaultdict\n",
      "File \u001b[1;32m~\\Desktop\\TFI-Cazcarra\\notebooks\\..\\src\\detection\\pycocotools\\mask.py:4\u001b[0m, in \u001b[0;36m<module>\u001b[1;34m\u001b[0m\n\u001b[0;32m      2\u001b[0m \u001b[38;5;28;01mimport\u001b[39;00m \u001b[38;5;21;01msys\u001b[39;00m\n\u001b[0;32m      3\u001b[0m sys\u001b[38;5;241m.\u001b[39mpath\u001b[38;5;241m.\u001b[39mappend(\u001b[38;5;124m\"\u001b[39m\u001b[38;5;124m../\u001b[39m\u001b[38;5;124m\"\u001b[39m)\n\u001b[1;32m----> 4\u001b[0m \u001b[38;5;28;01mfrom\u001b[39;00m \u001b[38;5;21;01m.\u001b[39;00m\u001b[38;5;21;01m.\u001b[39;00m\u001b[38;5;21;01mpycocotools\u001b[39;00m \u001b[38;5;28;01mimport\u001b[39;00m _mask\n\u001b[0;32m      6\u001b[0m \u001b[38;5;66;03m# Interface for manipulating masks stored in RLE format.\u001b[39;00m\n\u001b[0;32m      7\u001b[0m \u001b[38;5;66;03m#\u001b[39;00m\n\u001b[0;32m      8\u001b[0m \u001b[38;5;66;03m# RLE is a simple yet efficient format for storing binary masks. RLE\u001b[39;00m\n\u001b[1;32m   (...)\u001b[0m\n\u001b[0;32m     74\u001b[0m \u001b[38;5;66;03m# Code written by Piotr Dollar and Tsung-Yi Lin, 2015.\u001b[39;00m\n\u001b[0;32m     75\u001b[0m \u001b[38;5;66;03m# Licensed under the Simplified BSD License [see coco/license.txt]\u001b[39;00m\n\u001b[0;32m     77\u001b[0m iou         \u001b[38;5;241m=\u001b[39m _mask\u001b[38;5;241m.\u001b[39miou\n",
      "\u001b[1;31mImportError\u001b[0m: cannot import name '_mask' from 'src.detection.pycocotools' (C:\\Users\\Diego\\Desktop\\TFI-Cazcarra\\notebooks\\..\\src\\detection\\pycocotools\\__init__.py)"
     ]
    }
   ],
   "source": [
    "import sys\n",
    "sys.path.append(\"../\")\n",
    "\n",
    "from src.detection.engine import train_one_epoch, evaluate"
   ]
  },
  {
   "cell_type": "code",
   "execution_count": null,
   "id": "9c890441",
   "metadata": {},
   "outputs": [],
   "source": [
    "import os\n",
    "import numpy as np\n",
    "import pandas as pd\n",
    "import random\n",
    "import torch\n",
    "from PIL import Image\n",
    "from typing import Sequence\n",
    "import torch\n",
    "import torchvision\n",
    "from torchvision.models.detection import RetinaNet\n",
    "from torchvision.models.detection.anchor_utils import AnchorGenerator\n",
    "from torchvision.models.detection.backbone_utils import _resnet_fpn_extractor, _validate_trainable_layers\n",
    "from torchvision.transforms import ToTensor, RandomRotation, functional, Compose\n",
    "from torchvision.ops.feature_pyramid_network import LastLevelP6P7\n",
    "\n",
    "import logging"
   ]
  },
  {
   "cell_type": "code",
   "execution_count": null,
   "id": "6698d6d9",
   "metadata": {},
   "outputs": [],
   "source": [
    "PATH = 'C:\\\\Users\\\\Diego\\\\Desktop\\\\TFI-Cazcarra'\n",
    "ELEMENT_TO_TRAIN = \"diagramas\"\n",
    "\n",
    "IMAGES_DIR = f\"{PATH}\\\\data\\\\imagenes_diagramas\"\n",
    "CLASSES_CSV = f\"{PATH}/data/csv/classes_{ELEMENT_TO_TRAIN}.csv\"\n",
    "TRAIN_CSV = f\"{PATH}/data/csv/train_{ELEMENT_TO_TRAIN}.csv\"\n",
    "TEST_CSV = f\"{PATH}/data/csv/test_{ELEMENT_TO_TRAIN}.csv\"\n",
    "VAL_CSV = f\"{PATH}/data/csv/val_{ELEMENT_TO_TRAIN}.csv\""
   ]
  },
  {
   "cell_type": "code",
   "execution_count": null,
   "id": "99080b5e",
   "metadata": {},
   "outputs": [],
   "source": [
    "train_df = pd.read_csv(TRAIN_CSV)\n",
    "test_df = pd.read_csv(TEST_CSV)\n",
    "val_df = pd.read_csv(VAL_CSV)"
   ]
  },
  {
   "cell_type": "code",
   "execution_count": null,
   "id": "4637db02",
   "metadata": {},
   "outputs": [],
   "source": [
    "from sklearn.preprocessing import LabelEncoder\n",
    "\n",
    "classes = pd.read_csv(CLASSES_CSV)\n",
    "le = LabelEncoder()\n",
    "le.fit(classes.nombre)\n",
    "\n",
    "le_num_arr = le.transform(classes.nombre) + 1 #Empezamos por 1 para dejarle el 0 a la 'background class'\n",
    "le_label_arr = classes.nombre.values\n",
    "\n",
    "le_dict = {k:v for k,v in zip(le_label_arr,le_num_arr)}"
   ]
  },
  {
   "cell_type": "code",
   "execution_count": null,
   "id": "67fbdf8a",
   "metadata": {},
   "outputs": [],
   "source": [
    "class DiagramasDataset(torch.utils.data.Dataset):\n",
    "    def __init__(self, images_dir, csv_path, le_dict, transform=None, target_transform=None):\n",
    "        self.images_dir = images_dir\n",
    "        self.csv = pd.read_csv(csv_path)\n",
    "        self.images = [i for i in os.listdir(self.images_dir) \\\n",
    "                       if os.path.join(self.images_dir, i) in self.csv['image_path'].unique()]\n",
    "        self.le_dict = le_dict\n",
    "        self.transform = transform\n",
    "        self.target_transform = target_transform\n",
    "                \n",
    "    def __getitem__(self, idx):\n",
    "        image_path = self.images[idx]\n",
    "        full_image_path = os.path.join(self.images_dir, image_path)\n",
    "        df = self.csv\n",
    "        filtered_df = df[df['image_path']==full_image_path]\n",
    "        number_of_objects = filtered_df.shape[0]\n",
    "        \n",
    "        image = Image.open(full_image_path).convert(\"RGB\")\n",
    "        \n",
    "        boxes = []\n",
    "        for xmin, ymin, xmax, ymax in zip(filtered_df['xmin'], filtered_df['ymin'], filtered_df['xmax'], filtered_df['ymax']):\n",
    "            boxes.append([xmin, ymin, xmax, ymax])       \n",
    "        boxes = torch.as_tensor(boxes, dtype=torch.float32)\n",
    "        \n",
    "        labels = [self.le_dict[label] for label in filtered_df['label'].values]\n",
    "        area = (boxes[:, 3] - boxes[:, 1]) * (boxes[:, 2] - boxes[:, 0])\n",
    "        \n",
    "        target = {}\n",
    "        target['boxes'] = boxes\n",
    "        target['labels'] = torch.as_tensor(labels, dtype=torch.int64)\n",
    "        target['image_id'] = torch.tensor([idx])\n",
    "        target['area'] = area\n",
    "        target['iscrowd'] = torch.zeros((number_of_objects,), dtype=torch.int64)\n",
    "\n",
    "        if self.transform:\n",
    "            image = self.transform(image)\n",
    "        if self.target_transform:\n",
    "            target = self.target_transform(target)\n",
    "        \n",
    "        return image, target\n",
    "                \n",
    "    def __len__(self):\n",
    "        return len(self.images)"
   ]
  },
  {
   "cell_type": "code",
   "execution_count": null,
   "id": "a0831e3f",
   "metadata": {},
   "outputs": [],
   "source": [
    "class CustomRotateTransform:\n",
    "    def __init__(self, angles: Sequence[int]):\n",
    "        self.angles = angles\n",
    "\n",
    "    def __call__(self, x):\n",
    "        angle = random.choice(self.angles)\n",
    "        return functional.rotate(x, int(angle))"
   ]
  },
  {
   "cell_type": "code",
   "execution_count": null,
   "id": "f18d90ec",
   "metadata": {
    "scrolled": true
   },
   "outputs": [],
   "source": [
    "def transform_compose(train):\n",
    "    transforms = []\n",
    "    transforms.append(ToTensor())\n",
    "    if train:\n",
    "        angles = np.arange(0,360,90)\n",
    "        transforms.append(CustomRotateTransform(angles=angles))\n",
    "    return Compose(transforms)"
   ]
  },
  {
   "cell_type": "code",
   "execution_count": null,
   "id": "175d6d09",
   "metadata": {},
   "outputs": [],
   "source": [
    "def collate_fn(batch):\n",
    "    return tuple(zip(*batch))"
   ]
  },
  {
   "cell_type": "code",
   "execution_count": null,
   "id": "99f09a66",
   "metadata": {},
   "outputs": [],
   "source": [
    "train_dataset = DiagramasDataset(images_dir=IMAGES_DIR, csv_path=TRAIN_CSV, le_dict=le_dict, \\\n",
    "                                 transform=transform_compose(train=True))\n",
    "\n",
    "BATCH_SIZE = 16\n",
    "SHUFFLE = True\n",
    "\n",
    "train_dataloader = torch.utils.data.DataLoader(train_dataset, batch_size=BATCH_SIZE, \\\n",
    "                                          shuffle=SHUFFLE, num_workers=0,\\\n",
    "                                          collate_fn=collate_fn)"
   ]
  },
  {
   "cell_type": "code",
   "execution_count": null,
   "id": "349c1774",
   "metadata": {},
   "outputs": [],
   "source": [
    "test_dataset = DiagramasDataset(images_dir=IMAGES_DIR, csv_path=TEST_CSV, le_dict=le_dict, \\\n",
    "                                 transform=transform_compose(train=False))\n",
    "\n",
    "BATCH_SIZE_TEST = 32\n",
    "\n",
    "test_dataloader = torch.utils.data.DataLoader(test_dataset, batch_size=BATCH_SIZE_TEST, \\\n",
    "                                          shuffle=SHUFFLE, num_workers=0,\\\n",
    "                                          collate_fn=collate_fn)"
   ]
  },
  {
   "cell_type": "code",
   "execution_count": null,
   "id": "8ad0f0d5",
   "metadata": {},
   "outputs": [],
   "source": [
    "backbone = torchvision.models.resnet50(pretrained=True)\n",
    "\n",
    "trainable_backbone_layers = None\n",
    "\n",
    "trainable_backbone_layers = _validate_trainable_layers(\n",
    "        True, trainable_backbone_layers, 5, 3\n",
    "    )\n",
    "\n",
    "backbone = _resnet_fpn_extractor(\n",
    "        backbone, trainable_backbone_layers, returned_layers=[2, 3, 4], extra_blocks=LastLevelP6P7(256, 256)\n",
    "    )"
   ]
  },
  {
   "cell_type": "code",
   "execution_count": null,
   "id": "7f6265be",
   "metadata": {},
   "outputs": [],
   "source": [
    "#Cuando se usa RPN, size y aspect_ratios no tienen que estar \"double-nested\" -> ((x,y,z,w),)\n",
    "anchor_generator = AnchorGenerator(sizes=(32, 64, 128, 256, 512),\\\n",
    "                                   aspect_ratios=(0.5, 1.0, 2.0)\n",
    "                                  )"
   ]
  },
  {
   "cell_type": "code",
   "execution_count": null,
   "id": "dbc57b63",
   "metadata": {},
   "outputs": [],
   "source": [
    "minimum_size = 800\n",
    "for img in os.listdir(IMAGES_DIR):\n",
    "    image = np.asarray(Image.open(os.path.join(IMAGES_DIR, img)))\n",
    "    minimum_size = min(minimum_size, image.shape[0])\n",
    "    minimum_size = min(minimum_size, image.shape[1])"
   ]
  },
  {
   "cell_type": "code",
   "execution_count": null,
   "id": "e6ef18d3",
   "metadata": {},
   "outputs": [],
   "source": [
    "# Segun la documentacion, 'num_classes (int): number of output classes of the model (including the background).'\n",
    "model = RetinaNet(backbone, \\\n",
    "                  num_classes=len(classes)+1, \\\n",
    "                  anchor_generator=anchor_generator,  \\\n",
    "                  min_size=minimum_size)"
   ]
  },
  {
   "cell_type": "code",
   "execution_count": null,
   "id": "b4311c14",
   "metadata": {},
   "outputs": [],
   "source": [
    "LEARNING_RATE = 1e-4\n",
    "EPOCHS = 40\n",
    "DEVICE = 'cpu'\n",
    "PLATEAU_PATIENCE = 5"
   ]
  },
  {
   "cell_type": "code",
   "execution_count": null,
   "id": "8327f840",
   "metadata": {},
   "outputs": [],
   "source": [
    "optimizer = torch.optim.SGD(model.parameters(), lr=LEARNING_RATE)\n",
    "lr_scheduler = torch.optim.lr_scheduler.ReduceLROnPlateau(optimizer, 'min', patience=PLATEAU_PATIENCE)"
   ]
  },
  {
   "cell_type": "code",
   "execution_count": null,
   "id": "f9b6db35",
   "metadata": {},
   "outputs": [],
   "source": [
    "for epoch in range(1, EPOCHS+1):\n",
    "    _, losses_reduced = train_one_epoch(model, optimizer, train_dataloader, DEVICE, epoch, print_freq=10)\n",
    "    lr_scheduler.step(losses_reduced)\n",
    "    evaluate(model, test_dataloader, device=DEVICE)"
   ]
  },
  {
   "cell_type": "code",
   "execution_count": null,
   "id": "90006d50",
   "metadata": {},
   "outputs": [],
   "source": [
    "# for epoch in range(1, EPOCHS+1):\n",
    "#     model.train()\n",
    "#     header = f\"Epoch: [{epoch}]\"\n",
    "#     for num, (images, targets) in enumerate(train_dataloader):\n",
    "#         images = list(image.to(DEVICE) for image in images)\n",
    "#         targets = [{k: v.to(DEVICE) for k, v in list(t.items())} for t in targets]\n",
    "        \n",
    "#         loss_dict = model(images, targets)\n",
    "#         losses = sum(loss for loss in list(loss_dict.values()))\n",
    "        \n",
    "#         optimizer.zero_grad()\n",
    "#         losses.backward()\n",
    "#         optimizer.step()\n",
    "\n",
    "#         lr_scheduler.step(losses)\n",
    "#         if num % 10 == 0:\n",
    "#             print(header, f\" [] Focal Loss: {losses}\")\n",
    "#         num+=1"
   ]
  },
  {
   "cell_type": "code",
   "execution_count": null,
   "id": "a84c38b5",
   "metadata": {},
   "outputs": [],
   "source": []
  }
 ],
 "metadata": {
  "kernelspec": {
   "display_name": "Python 3 (ipykernel)",
   "language": "python",
   "name": "python3"
  },
  "language_info": {
   "codemirror_mode": {
    "name": "ipython",
    "version": 3
   },
   "file_extension": ".py",
   "mimetype": "text/x-python",
   "name": "python",
   "nbconvert_exporter": "python",
   "pygments_lexer": "ipython3",
   "version": "3.9.12"
  }
 },
 "nbformat": 4,
 "nbformat_minor": 5
}
