{
 "cells": [
  {
   "cell_type": "code",
   "execution_count": null,
   "id": "9c890441",
   "metadata": {},
   "outputs": [],
   "source": [
    "import os\n",
    "import numpy as np\n",
    "import pandas as pd\n",
    "import random\n",
    "import torch\n",
    "from PIL import Image\n",
    "from typing import Sequence\n",
    "import torch\n",
    "import torchvision\n",
    "from torchvision.models.detection import RetinaNet\n",
    "from torchvision.models.detection.anchor_utils import AnchorGenerator\n",
    "from torchvision.transforms import ToTensor, RandomRotation, functional, Compose\n",
    "import logging"
   ]
  },
  {
   "cell_type": "code",
   "execution_count": null,
   "id": "6698d6d9",
   "metadata": {},
   "outputs": [],
   "source": [
    "PATH = 'C:\\\\Users\\\\Diego\\\\Desktop\\\\TFI-Cazcarra'\n",
    "ELEMENT_TO_TRAIN = \"diagramas\"\n",
    "\n",
    "IMAGES_DIR = f\"{PATH}\\\\data\\\\imagenes_diagramas\"\n",
    "CLASSES_CSV = f\"{PATH}/data/csv/classes_{ELEMENT_TO_TRAIN}.csv\"\n",
    "TRAIN_CSV = f\"{PATH}/data/csv/train_{ELEMENT_TO_TRAIN}.csv\"\n",
    "TEST_CSV = f\"{PATH}/data/csv/test_{ELEMENT_TO_TRAIN}.csv\"\n",
    "VAL_CSV = f\"{PATH}/data/csv/val_{ELEMENT_TO_TRAIN}.csv\""
   ]
  },
  {
   "cell_type": "code",
   "execution_count": null,
   "id": "99080b5e",
   "metadata": {},
   "outputs": [],
   "source": [
    "train_df = pd.read_csv(TRAIN_CSV)\n",
    "test_df = pd.read_csv(TEST_CSV)\n",
    "val_df = pd.read_csv(VAL_CSV)"
   ]
  },
  {
   "cell_type": "code",
   "execution_count": null,
   "id": "4637db02",
   "metadata": {},
   "outputs": [],
   "source": [
    "from sklearn.preprocessing import LabelEncoder\n",
    "\n",
    "classes = pd.read_csv(CLASSES_CSV)\n",
    "le = LabelEncoder()\n",
    "le.fit(classes.nombre)\n",
    "\n",
    "le_num_arr = le.transform(classes.nombre) + 1 #Empezamos por 1 para dejarle el 0 a la 'background class'\n",
    "le_label_arr = classes.nombre.values\n",
    "\n",
    "le_dict = {k:v for k,v in zip(le_label_arr,le_num_arr)}"
   ]
  },
  {
   "cell_type": "code",
   "execution_count": null,
   "id": "67fbdf8a",
   "metadata": {},
   "outputs": [],
   "source": [
    "class DiagramasDataset(torch.utils.data.Dataset):\n",
    "    def __init__(self, images_dir, csv_path, le_dict, transform=None, target_transform=None):\n",
    "        self.images_dir = images_dir\n",
    "        self.csv = pd.read_csv(csv_path)\n",
    "        self.images = [i for i in os.listdir(self.images_dir) \\\n",
    "                       if os.path.join(self.images_dir, i) in self.csv['image_path'].unique()]\n",
    "        self.le_dict = le_dict\n",
    "        self.transform = transform\n",
    "        self.target_transform = target_transform\n",
    "                \n",
    "    def __getitem__(self, idx):\n",
    "        image_path = self.images[idx]\n",
    "        full_image_path = os.path.join(self.images_dir, image_path)\n",
    "        df = self.csv\n",
    "        filtered_df = df[df['image_path']==full_image_path]\n",
    "        number_of_objects = filtered_df.shape[0]\n",
    "        \n",
    "        image = Image.open(full_image_path).convert(\"RGB\")\n",
    "        \n",
    "        boxes = []\n",
    "        for xmin, ymin, xmax, ymax in zip(filtered_df['xmin'], filtered_df['ymin'], filtered_df['xmax'], filtered_df['ymax']):\n",
    "            boxes.append([xmin, ymin, xmax, ymax])       \n",
    "        boxes = torch.as_tensor(boxes, dtype=torch.float32)\n",
    "        \n",
    "        labels = [self.le_dict[label] for label in filtered_df['label'].values]\n",
    "#         area = (boxes[:, 3] - boxes[:, 1]) * (boxes[:, 2] - boxes[:, 0])\n",
    "        \n",
    "        target = {}\n",
    "        target['boxes'] = boxes\n",
    "        target['labels'] = torch.as_tensor(labels, dtype=torch.int64)\n",
    "#         target['image_id'] = torch.tensor([idx])\n",
    "#         target['area'] = area\n",
    "#         target['iscrowd'] = torch.zeros((number_of_objects,), dtype=torch.int64)\n",
    "\n",
    "        if self.transform:\n",
    "            image = self.transform(image)\n",
    "        if self.target_transform:\n",
    "            target = self.target_transform(target)\n",
    "        \n",
    "        return image, target\n",
    "                \n",
    "    def __len__(self):\n",
    "        return len(self.images)"
   ]
  },
  {
   "cell_type": "code",
   "execution_count": null,
   "id": "a0831e3f",
   "metadata": {},
   "outputs": [],
   "source": [
    "class CustomRotateTransform:\n",
    "    def __init__(self, angles: Sequence[int]):\n",
    "        self.angles = angles\n",
    "\n",
    "    def __call__(self, x):\n",
    "        angle = random.choice(self.angles)\n",
    "        return functional.rotate(x, int(angle))"
   ]
  },
  {
   "cell_type": "code",
   "execution_count": null,
   "id": "f18d90ec",
   "metadata": {
    "scrolled": true
   },
   "outputs": [],
   "source": [
    "def transform_compose(train):\n",
    "    transforms = []\n",
    "    transforms.append(ToTensor())\n",
    "    if train:\n",
    "        angles = np.arange(0,360,90)\n",
    "        transforms.append(CustomRotateTransform(angles=angles))\n",
    "    return Compose(transforms)"
   ]
  },
  {
   "cell_type": "code",
   "execution_count": null,
   "id": "175d6d09",
   "metadata": {},
   "outputs": [],
   "source": [
    "def collate_fn(batch):\n",
    "    return tuple(zip(*batch))"
   ]
  },
  {
   "cell_type": "code",
   "execution_count": null,
   "id": "99f09a66",
   "metadata": {},
   "outputs": [],
   "source": [
    "train_dataset = DiagramasDataset(images_dir=IMAGES_DIR, csv_path=TRAIN_CSV, le_dict=le_dict, \\\n",
    "                                 transform=transform_compose(train=True))\n",
    "\n",
    "BATCH_SIZE = 32\n",
    "SHUFFLE = True\n",
    "\n",
    "train_dataloader = torch.utils.data.DataLoader(train_dataset, batch_size=BATCH_SIZE, \\\n",
    "                                          shuffle=SHUFFLE, num_workers=0,\\\n",
    "                                          collate_fn=collate_fn)"
   ]
  },
  {
   "cell_type": "code",
   "execution_count": null,
   "id": "8ad0f0d5",
   "metadata": {},
   "outputs": [],
   "source": [
    "backbone = torchvision.models.mobilenet_v2(pretrained=True).features\n",
    "backbone.out_channels = 1280"
   ]
  },
  {
   "cell_type": "code",
   "execution_count": null,
   "id": "7f6265be",
   "metadata": {},
   "outputs": [],
   "source": [
    "anchor_generator = AnchorGenerator(sizes=((32, 64, 128, 256, 512),),\\\n",
    "                                   aspect_ratios=((0.5, 1.0, 2.0),)\n",
    "                                  )"
   ]
  },
  {
   "cell_type": "code",
   "execution_count": null,
   "id": "dbc57b63",
   "metadata": {},
   "outputs": [],
   "source": [
    "minimum_size = 800\n",
    "for img in os.listdir(IMAGES_DIR):\n",
    "    image = np.asarray(Image.open(os.path.join(IMAGES_DIR, img)))\n",
    "    minimum_size = min(minimum_size, image.shape[0])\n",
    "    minimum_size = min(minimum_size, image.shape[1])"
   ]
  },
  {
   "cell_type": "code",
   "execution_count": null,
   "id": "e6ef18d3",
   "metadata": {},
   "outputs": [],
   "source": [
    "# Segun la documentacion, 'num_classes (int): number of output classes of the model (including the background).'\n",
    "model = RetinaNet(backbone, \\\n",
    "                  num_classes=len(classes)+1, \\\n",
    "                  anchor_generator=anchor_generator,  \\\n",
    "                  min_size=minimum_size)"
   ]
  },
  {
   "cell_type": "code",
   "execution_count": null,
   "id": "b4311c14",
   "metadata": {},
   "outputs": [],
   "source": [
    "LEARNING_RATE = 1e-3\n",
    "EPOCHS = 100\n",
    "DEVICE = 'cpu'\n",
    "PLATEAU_PATIENCE = 5"
   ]
  },
  {
   "cell_type": "code",
   "execution_count": null,
   "id": "8327f840",
   "metadata": {},
   "outputs": [],
   "source": [
    "optimizer = torch.optim.SGD(model.parameters(), lr=LEARNING_RATE)\n",
    "lr_scheduler = torch.optim.lr_scheduler.ReduceLROnPlateau(optimizer, 'min', patience=PLATEAU_PATIENCE)"
   ]
  },
  {
   "cell_type": "code",
   "execution_count": null,
   "id": "90006d50",
   "metadata": {},
   "outputs": [],
   "source": [
    "for epoch in range(1,EPOCHS+1):\n",
    "    model.train()\n",
    "    header = f\"Epoch: [{epoch}]\"\n",
    "    for num, (images, targets) in enumerate(train_dataloader):\n",
    "        images = list(image.to(DEVICE) for image in images)\n",
    "        targets = [{k: v.to(DEVICE) for k, v in list(t.items())} for t in targets]\n",
    "        \n",
    "        loss_dict = model(images, targets)\n",
    "        losses = sum(loss for loss in list(loss_dict.values()))\n",
    "        \n",
    "        optimizer.zero_grad()\n",
    "        losses.backward()\n",
    "        optimizer.step()\n",
    "\n",
    "        lr_scheduler.step(losses)\n",
    "        if num % 10 == 0:\n",
    "            print(header, f\" [] Focal Loss: {losses}\")\n",
    "        num+=1"
   ]
  },
  {
   "cell_type": "code",
   "execution_count": null,
   "id": "7fd73d71",
   "metadata": {},
   "outputs": [],
   "source": []
  }
 ],
 "metadata": {
  "kernelspec": {
   "display_name": "Python 3 (ipykernel)",
   "language": "python",
   "name": "python3"
  },
  "language_info": {
   "codemirror_mode": {
    "name": "ipython",
    "version": 3
   },
   "file_extension": ".py",
   "mimetype": "text/x-python",
   "name": "python",
   "nbconvert_exporter": "python",
   "pygments_lexer": "ipython3",
   "version": "3.9.12"
  }
 },
 "nbformat": 4,
 "nbformat_minor": 5
}
