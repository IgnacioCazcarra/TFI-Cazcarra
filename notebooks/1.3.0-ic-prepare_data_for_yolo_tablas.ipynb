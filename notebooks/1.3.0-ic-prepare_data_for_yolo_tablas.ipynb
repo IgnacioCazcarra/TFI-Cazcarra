{
 "cells": [
  {
   "cell_type": "code",
   "execution_count": 1,
   "id": "6484f72b",
   "metadata": {},
   "outputs": [],
   "source": [
    "import glob\n",
    "import os\n",
    "import pickle\n",
    "import xml.etree.ElementTree as ET\n",
    "from os import listdir, getcwd\n",
    "from os.path import join\n",
    "from PIL import Image\n",
    "import pandas as pd"
   ]
  },
  {
   "cell_type": "code",
   "execution_count": 2,
   "id": "40700161",
   "metadata": {},
   "outputs": [],
   "source": [
    "import sys\n",
    "sys.path.append(\"../\")\n",
    "\n",
    "from src.constants import *\n",
    "from src.training_utils.dataset import *"
   ]
  },
  {
   "cell_type": "code",
   "execution_count": 3,
   "id": "5e2dd4f5",
   "metadata": {},
   "outputs": [],
   "source": [
    "BASE_DIR_IMG = f\"{PATH}/data/imagenes_diagramas/\"\n",
    "BASE_DIR_XML = f\"{PATH}/data/xml_diagramas/\"\n",
    "\n",
    "# CSV = f\"{PATH}/data/tiles/data_cardinalidades_sliced.csv\""
   ]
  },
  {
   "cell_type": "code",
   "execution_count": 7,
   "id": "c83649eb",
   "metadata": {},
   "outputs": [],
   "source": [
    "train_df = pd.read_csv(\"/home/nacho/TFI-Cazcarra/data/csv/augmented_train_diagramas.csv\", header=None)\n",
    "train_df.columns = ['image_path', 'xmin', 'ymin', 'xmax', 'ymax', 'label']\n",
    "train_df = train_df[train_df['label']==\"tabla\"] \n",
    "test_df = pd.read_csv(\"/home/nacho/TFI-Cazcarra/data/csv/augmented_test_diagramas.csv\")\n",
    "test_df = test_df[test_df['label']==\"tabla\"] "
   ]
  },
  {
   "cell_type": "code",
   "execution_count": 8,
   "id": "56751350",
   "metadata": {},
   "outputs": [],
   "source": [
    "le_dict = {'tabla': 1}"
   ]
  },
  {
   "cell_type": "code",
   "execution_count": 10,
   "id": "0f031cb5",
   "metadata": {},
   "outputs": [],
   "source": [
    "CLASSES = ['tabla']\n",
    "DIR = [BASE_DIR_IMG]"
   ]
  },
  {
   "cell_type": "code",
   "execution_count": 11,
   "id": "8a475ac3",
   "metadata": {},
   "outputs": [],
   "source": [
    "def get_images_in_dir(dir_path):\n",
    "    image_list = []\n",
    "    for filename in glob.glob(dir_path + '*.png'):\n",
    "        image_list.append(filename)\n",
    "    return image_list"
   ]
  },
  {
   "cell_type": "code",
   "execution_count": 12,
   "id": "72577878",
   "metadata": {},
   "outputs": [],
   "source": [
    "def convert(size, box):\n",
    "    dw = 1./(size[0])\n",
    "    dh = 1./(size[1])\n",
    "    x = (box[0] + box[1])/2.0 - 1\n",
    "    y = (box[2] + box[3])/2.0 - 1\n",
    "    w = box[1] - box[0]\n",
    "    h = box[3] - box[2]\n",
    "    x = x*dw\n",
    "    w = w*dw\n",
    "    y = y*dh\n",
    "    h = h*dh\n",
    "    return (x,y,w,h)"
   ]
  },
  {
   "cell_type": "code",
   "execution_count": 15,
   "id": "f3f0c869",
   "metadata": {},
   "outputs": [],
   "source": [
    "def convert_annotation(dir_path, output_path, image_path):\n",
    "    '''\n",
    "    dir_path -> image_slices/\n",
    "    output_path -> yolo_tablas/train o yolo_tablas/test\n",
    "    image_path -> imagen .png\n",
    "    '''\n",
    "    basename = os.path.basename(image_path)\n",
    "    basename_no_ext = os.path.splitext(basename)[0] # El nombre de la imagen en limpio\n",
    "\n",
    "    in_file = open(BASE_DIR_XML +  basename_no_ext + '.xml')\n",
    "    tree = ET.parse(in_file)\n",
    "    root = tree.getroot()\n",
    "    size = root.find('size')\n",
    "\n",
    "    w,h = Image.open(image_path).size\n",
    "    print(output_path + basename_no_ext)\n",
    "    with open(output_path + basename_no_ext + '.txt', 'w+') as out_file:\n",
    "        for obj in root.iter('object'):\n",
    "            cls = obj.find('name').text\n",
    "            if cls not in CLASSES:\n",
    "                continue\n",
    "            cls_id = le_dict[cls] - 1 # Para que empiecen desde 0\n",
    "            xmlbox = obj.find('bndbox')\n",
    "            b = (float(xmlbox.find('xmin').text), float(xmlbox.find('xmax').text), \n",
    "                 float(xmlbox.find('ymin').text), float(xmlbox.find('ymax').text))\n",
    "            bb = convert((w,h), b)\n",
    "            out_file.write(str(cls_id) + \" \" + \" \".join([str(a) for a in bb]) + '\\n')\n",
    "    out_file.close()\n",
    "cwd = getcwd()"
   ]
  },
  {
   "cell_type": "code",
   "execution_count": 17,
   "id": "5bb49761",
   "metadata": {},
   "outputs": [
    {
     "name": "stdout",
     "output_type": "stream",
     "text": [
      "/home/nacho/TFI-Cazcarra/data/yolo_tablas/train/ERDiagramsMySQL-6\n",
      "/home/nacho/TFI-Cazcarra/data/yolo_tablas/train/ERDiagramsMySQL-27\n",
      "/home/nacho/TFI-Cazcarra/data/yolo_tablas/train/ERDiagramsMySQL-58\n",
      "/home/nacho/TFI-Cazcarra/data/yolo_tablas/train/ERDiagramsMySQL-13\n",
      "/home/nacho/TFI-Cazcarra/data/yolo_tablas/train/ERDiagramsMySQL-14\n",
      "/home/nacho/TFI-Cazcarra/data/yolo_tablas/test/ERDiagramsMySQL-18\n",
      "/home/nacho/TFI-Cazcarra/data/yolo_tablas/train/ERDiagramsMySQL-12\n",
      "/home/nacho/TFI-Cazcarra/data/yolo_tablas/test/ERDiagramsMySQL-8\n",
      "/home/nacho/TFI-Cazcarra/data/yolo_tablas/test/ERDiagramsMySQL-17\n",
      "/home/nacho/TFI-Cazcarra/data/yolo_tablas/train/ERDiagramsMySQL-26\n",
      "/home/nacho/TFI-Cazcarra/data/yolo_tablas/train/ERDiagramsMySQL-48\n",
      "/home/nacho/TFI-Cazcarra/data/yolo_tablas/train/ERDiagramsMySQL-9\n",
      "/home/nacho/TFI-Cazcarra/data/yolo_tablas/train/ERDiagramsMySQL-51\n",
      "/home/nacho/TFI-Cazcarra/data/yolo_tablas/test/ERDiagramsMySQL-22\n",
      "/home/nacho/TFI-Cazcarra/data/yolo_tablas/test/ERDiagramsMySQL-65\n",
      "/home/nacho/TFI-Cazcarra/data/yolo_tablas/train/ERDiagramsMySQL-23\n",
      "/home/nacho/TFI-Cazcarra/data/yolo_tablas/train/ERDiagramsMySQL-64\n",
      "/home/nacho/TFI-Cazcarra/data/yolo_tablas/train/ERDiagramsMySQL-39\n",
      "/home/nacho/TFI-Cazcarra/data/yolo_tablas/train/ERDiagramsMySQL-42\n",
      "/home/nacho/TFI-Cazcarra/data/yolo_tablas/train/ERDiagramsMySQL-5\n",
      "/home/nacho/TFI-Cazcarra/data/yolo_tablas/test/ERDiagramsMySQL-63\n",
      "/home/nacho/TFI-Cazcarra/data/yolo_tablas/train/ERDiagramsMySQL-10\n",
      "/home/nacho/TFI-Cazcarra/data/yolo_tablas/train/ERDiagramsMySQL-37\n",
      "/home/nacho/TFI-Cazcarra/data/yolo_tablas/train/ERDiagramsMySQL-11\n",
      "/home/nacho/TFI-Cazcarra/data/yolo_tablas/train/ERDiagramsMySQL-33\n",
      "/home/nacho/TFI-Cazcarra/data/yolo_tablas/train/ERDiagramsMySQL-35\n",
      "/home/nacho/TFI-Cazcarra/data/yolo_tablas/test/ERDiagramsMySQL-36\n",
      "/home/nacho/TFI-Cazcarra/data/yolo_tablas/train/ERDiagramsMySQL-20\n",
      "/home/nacho/TFI-Cazcarra/data/yolo_tablas/test/ERDiagramsMySQL-43\n",
      "/home/nacho/TFI-Cazcarra/data/yolo_tablas/train/ERDiagramsMySQL-1\n",
      "/home/nacho/TFI-Cazcarra/data/yolo_tablas/test/ERDiagramsMySQL-2\n",
      "/home/nacho/TFI-Cazcarra/data/yolo_tablas/train/ERDiagramsMySQL-45\n",
      "/home/nacho/TFI-Cazcarra/data/yolo_tablas/test/ERDiagramsMySQL-62\n",
      "/home/nacho/TFI-Cazcarra/data/yolo_tablas/train/ERDiagramsMySQL-61\n",
      "/home/nacho/TFI-Cazcarra/data/yolo_tablas/train/ERDiagramsMySQL-7\n",
      "/home/nacho/TFI-Cazcarra/data/yolo_tablas/train/ERDiagramsMySQL-60\n",
      "/home/nacho/TFI-Cazcarra/data/yolo_tablas/train/ERDiagramsMySQL-3\n",
      "/home/nacho/TFI-Cazcarra/data/yolo_tablas/train/ERDiagramsMySQL-59\n",
      "/home/nacho/TFI-Cazcarra/data/yolo_tablas/test/ERDiagramsMySQL-34\n",
      "/home/nacho/TFI-Cazcarra/data/yolo_tablas/test/ERDiagramsMySQL-15\n",
      "Finished processing: /home/nacho/TFI-Cazcarra/data/imagenes_diagramas/\n"
     ]
    }
   ],
   "source": [
    "for dir_path in DIR:\n",
    "    full_dir_path = dir_path\n",
    "    output_path = f\"{PATH}/data/yolo_tablas/\"\n",
    "    \n",
    "    if not os.path.exists(output_path):\n",
    "        os.makedirs(output_path)\n",
    "\n",
    "    image_paths = get_images_in_dir(full_dir_path)       \n",
    "#     train_file = open(full_dir_path +  \"train/\" + '.txt', 'w')\n",
    "#     test_file = open(full_dir_path + \"test/\" + '.txt', 'w')\n",
    "\n",
    "    for image_path in image_paths:\n",
    "        current_folder = \"train/\" if image_path in train_df['image_path'].unique() else \"test/\"\n",
    "        out_path = output_path + current_folder       \n",
    "        \n",
    "        convert_annotation(full_dir_path, out_path, image_path)\n",
    "\n",
    "    print(\"Finished processing: \" + dir_path)"
   ]
  },
  {
   "cell_type": "markdown",
   "id": "d1988621",
   "metadata": {},
   "source": [
    "## Copy files to train/ and test/"
   ]
  },
  {
   "cell_type": "code",
   "execution_count": 18,
   "id": "a8d97ba8",
   "metadata": {},
   "outputs": [],
   "source": [
    "import shutil\n",
    "all_images = get_images_in_dir(dir_path)"
   ]
  },
  {
   "cell_type": "code",
   "execution_count": 21,
   "id": "d2f38a55",
   "metadata": {
    "collapsed": true
   },
   "outputs": [
    {
     "name": "stdout",
     "output_type": "stream",
     "text": [
      "/home/nacho/TFI-Cazcarra/data/imagenes_diagramas/ERDiagramsMySQL-6.png /home/nacho/TFI-Cazcarra/data/yolo_tablas/train/images/ERDiagramsMySQL-6.png\n",
      "/home/nacho/TFI-Cazcarra/data/imagenes_diagramas/ERDiagramsMySQL-27.png /home/nacho/TFI-Cazcarra/data/yolo_tablas/train/images/ERDiagramsMySQL-27.png\n",
      "/home/nacho/TFI-Cazcarra/data/imagenes_diagramas/ERDiagramsMySQL-58.png /home/nacho/TFI-Cazcarra/data/yolo_tablas/train/images/ERDiagramsMySQL-58.png\n",
      "/home/nacho/TFI-Cazcarra/data/imagenes_diagramas/ERDiagramsMySQL-13.png /home/nacho/TFI-Cazcarra/data/yolo_tablas/train/images/ERDiagramsMySQL-13.png\n",
      "/home/nacho/TFI-Cazcarra/data/imagenes_diagramas/ERDiagramsMySQL-14.png /home/nacho/TFI-Cazcarra/data/yolo_tablas/train/images/ERDiagramsMySQL-14.png\n",
      "/home/nacho/TFI-Cazcarra/data/imagenes_diagramas/ERDiagramsMySQL-18.png /home/nacho/TFI-Cazcarra/data/yolo_tablas/test/images/ERDiagramsMySQL-18.png\n",
      "/home/nacho/TFI-Cazcarra/data/imagenes_diagramas/ERDiagramsMySQL-12.png /home/nacho/TFI-Cazcarra/data/yolo_tablas/train/images/ERDiagramsMySQL-12.png\n",
      "/home/nacho/TFI-Cazcarra/data/imagenes_diagramas/ERDiagramsMySQL-8.png /home/nacho/TFI-Cazcarra/data/yolo_tablas/test/images/ERDiagramsMySQL-8.png\n",
      "/home/nacho/TFI-Cazcarra/data/imagenes_diagramas/ERDiagramsMySQL-17.png /home/nacho/TFI-Cazcarra/data/yolo_tablas/test/images/ERDiagramsMySQL-17.png\n",
      "/home/nacho/TFI-Cazcarra/data/imagenes_diagramas/ERDiagramsMySQL-26.png /home/nacho/TFI-Cazcarra/data/yolo_tablas/train/images/ERDiagramsMySQL-26.png\n",
      "/home/nacho/TFI-Cazcarra/data/imagenes_diagramas/ERDiagramsMySQL-48.png /home/nacho/TFI-Cazcarra/data/yolo_tablas/train/images/ERDiagramsMySQL-48.png\n",
      "/home/nacho/TFI-Cazcarra/data/imagenes_diagramas/ERDiagramsMySQL-9.png /home/nacho/TFI-Cazcarra/data/yolo_tablas/train/images/ERDiagramsMySQL-9.png\n",
      "/home/nacho/TFI-Cazcarra/data/imagenes_diagramas/ERDiagramsMySQL-51.png /home/nacho/TFI-Cazcarra/data/yolo_tablas/train/images/ERDiagramsMySQL-51.png\n",
      "/home/nacho/TFI-Cazcarra/data/imagenes_diagramas/ERDiagramsMySQL-22.png /home/nacho/TFI-Cazcarra/data/yolo_tablas/test/images/ERDiagramsMySQL-22.png\n",
      "/home/nacho/TFI-Cazcarra/data/imagenes_diagramas/ERDiagramsMySQL-65.png /home/nacho/TFI-Cazcarra/data/yolo_tablas/test/images/ERDiagramsMySQL-65.png\n",
      "/home/nacho/TFI-Cazcarra/data/imagenes_diagramas/ERDiagramsMySQL-23.png /home/nacho/TFI-Cazcarra/data/yolo_tablas/train/images/ERDiagramsMySQL-23.png\n",
      "/home/nacho/TFI-Cazcarra/data/imagenes_diagramas/ERDiagramsMySQL-64.png /home/nacho/TFI-Cazcarra/data/yolo_tablas/train/images/ERDiagramsMySQL-64.png\n",
      "/home/nacho/TFI-Cazcarra/data/imagenes_diagramas/ERDiagramsMySQL-39.png /home/nacho/TFI-Cazcarra/data/yolo_tablas/train/images/ERDiagramsMySQL-39.png\n",
      "/home/nacho/TFI-Cazcarra/data/imagenes_diagramas/ERDiagramsMySQL-42.png /home/nacho/TFI-Cazcarra/data/yolo_tablas/train/images/ERDiagramsMySQL-42.png\n",
      "/home/nacho/TFI-Cazcarra/data/imagenes_diagramas/ERDiagramsMySQL-5.png /home/nacho/TFI-Cazcarra/data/yolo_tablas/train/images/ERDiagramsMySQL-5.png\n",
      "/home/nacho/TFI-Cazcarra/data/imagenes_diagramas/ERDiagramsMySQL-63.png /home/nacho/TFI-Cazcarra/data/yolo_tablas/test/images/ERDiagramsMySQL-63.png\n",
      "/home/nacho/TFI-Cazcarra/data/imagenes_diagramas/ERDiagramsMySQL-10.png /home/nacho/TFI-Cazcarra/data/yolo_tablas/train/images/ERDiagramsMySQL-10.png\n",
      "/home/nacho/TFI-Cazcarra/data/imagenes_diagramas/ERDiagramsMySQL-37.png /home/nacho/TFI-Cazcarra/data/yolo_tablas/train/images/ERDiagramsMySQL-37.png\n",
      "/home/nacho/TFI-Cazcarra/data/imagenes_diagramas/ERDiagramsMySQL-11.png /home/nacho/TFI-Cazcarra/data/yolo_tablas/train/images/ERDiagramsMySQL-11.png\n",
      "/home/nacho/TFI-Cazcarra/data/imagenes_diagramas/ERDiagramsMySQL-33.png /home/nacho/TFI-Cazcarra/data/yolo_tablas/train/images/ERDiagramsMySQL-33.png\n",
      "/home/nacho/TFI-Cazcarra/data/imagenes_diagramas/ERDiagramsMySQL-35.png /home/nacho/TFI-Cazcarra/data/yolo_tablas/train/images/ERDiagramsMySQL-35.png\n",
      "/home/nacho/TFI-Cazcarra/data/imagenes_diagramas/ERDiagramsMySQL-36.png /home/nacho/TFI-Cazcarra/data/yolo_tablas/test/images/ERDiagramsMySQL-36.png\n",
      "/home/nacho/TFI-Cazcarra/data/imagenes_diagramas/ERDiagramsMySQL-20.png /home/nacho/TFI-Cazcarra/data/yolo_tablas/train/images/ERDiagramsMySQL-20.png\n",
      "/home/nacho/TFI-Cazcarra/data/imagenes_diagramas/ERDiagramsMySQL-43.png /home/nacho/TFI-Cazcarra/data/yolo_tablas/test/images/ERDiagramsMySQL-43.png\n",
      "/home/nacho/TFI-Cazcarra/data/imagenes_diagramas/ERDiagramsMySQL-1.png /home/nacho/TFI-Cazcarra/data/yolo_tablas/train/images/ERDiagramsMySQL-1.png\n",
      "/home/nacho/TFI-Cazcarra/data/imagenes_diagramas/ERDiagramsMySQL-2.png /home/nacho/TFI-Cazcarra/data/yolo_tablas/test/images/ERDiagramsMySQL-2.png\n",
      "/home/nacho/TFI-Cazcarra/data/imagenes_diagramas/ERDiagramsMySQL-45.png /home/nacho/TFI-Cazcarra/data/yolo_tablas/train/images/ERDiagramsMySQL-45.png\n",
      "/home/nacho/TFI-Cazcarra/data/imagenes_diagramas/ERDiagramsMySQL-62.png /home/nacho/TFI-Cazcarra/data/yolo_tablas/test/images/ERDiagramsMySQL-62.png\n",
      "/home/nacho/TFI-Cazcarra/data/imagenes_diagramas/ERDiagramsMySQL-61.png /home/nacho/TFI-Cazcarra/data/yolo_tablas/train/images/ERDiagramsMySQL-61.png\n",
      "/home/nacho/TFI-Cazcarra/data/imagenes_diagramas/ERDiagramsMySQL-7.png /home/nacho/TFI-Cazcarra/data/yolo_tablas/train/images/ERDiagramsMySQL-7.png\n",
      "/home/nacho/TFI-Cazcarra/data/imagenes_diagramas/ERDiagramsMySQL-60.png /home/nacho/TFI-Cazcarra/data/yolo_tablas/train/images/ERDiagramsMySQL-60.png\n",
      "/home/nacho/TFI-Cazcarra/data/imagenes_diagramas/ERDiagramsMySQL-3.png /home/nacho/TFI-Cazcarra/data/yolo_tablas/train/images/ERDiagramsMySQL-3.png\n",
      "/home/nacho/TFI-Cazcarra/data/imagenes_diagramas/ERDiagramsMySQL-59.png /home/nacho/TFI-Cazcarra/data/yolo_tablas/train/images/ERDiagramsMySQL-59.png\n",
      "/home/nacho/TFI-Cazcarra/data/imagenes_diagramas/ERDiagramsMySQL-34.png /home/nacho/TFI-Cazcarra/data/yolo_tablas/test/images/ERDiagramsMySQL-34.png\n",
      "/home/nacho/TFI-Cazcarra/data/imagenes_diagramas/ERDiagramsMySQL-15.png /home/nacho/TFI-Cazcarra/data/yolo_tablas/test/images/ERDiagramsMySQL-15.png\n"
     ]
    }
   ],
   "source": [
    "for img in all_images:\n",
    "    current_folder = \"train\" if img in train_df['image_path'].unique() else \"test\"\n",
    "    dst = f\"/home/nacho/TFI-Cazcarra/data/yolo_tablas/{current_folder}/images/{os.path.basename(img)}\"\n",
    "    print(img, dst)\n",
    "    shutil.copyfile(img, dst)"
   ]
  },
  {
   "cell_type": "code",
   "execution_count": null,
   "id": "e9a2cfba",
   "metadata": {},
   "outputs": [],
   "source": [
    "## Manually move .txts to labels/"
   ]
  }
 ],
 "metadata": {
  "kernelspec": {
   "display_name": "Python 3 (ipykernel)",
   "language": "python",
   "name": "python3"
  },
  "language_info": {
   "codemirror_mode": {
    "name": "ipython",
    "version": 3
   },
   "file_extension": ".py",
   "mimetype": "text/x-python",
   "name": "python",
   "nbconvert_exporter": "python",
   "pygments_lexer": "ipython3",
   "version": "3.8.10"
  }
 },
 "nbformat": 4,
 "nbformat_minor": 5
}
