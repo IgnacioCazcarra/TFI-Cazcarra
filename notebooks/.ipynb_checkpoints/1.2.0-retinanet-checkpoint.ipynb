{
 "cells": [
  {
   "cell_type": "markdown",
   "id": "6f8bc12c",
   "metadata": {},
   "source": [
    "## Made with guiding \"Finetuning from a pretrained model\"\n",
    "https://pytorch.org/tutorials/intermediate/torchvision_tutorial.html#finetuning-from-a-pretrained-model"
   ]
  },
  {
   "cell_type": "code",
   "execution_count": 1,
   "id": "6a536986",
   "metadata": {},
   "outputs": [],
   "source": [
    "import sys\n",
    "sys.path.append(\"../\")\n",
    "\n",
    "from src.detection.engine import train_one_epoch, evaluate"
   ]
  },
  {
   "cell_type": "code",
   "execution_count": 2,
   "id": "9c890441",
   "metadata": {},
   "outputs": [],
   "source": [
    "import os\n",
    "import numpy as np\n",
    "import pandas as pd\n",
    "import random\n",
    "import torch\n",
    "from PIL import Image\n",
    "from typing import Sequence\n",
    "import torch\n",
    "import torchvision\n",
    "from torchvision.models.detection import RetinaNet\n",
    "from torchvision.models.detection.anchor_utils import AnchorGenerator\n",
    "from torchvision.models.detection.backbone_utils import _resnet_fpn_extractor, _validate_trainable_layers\n",
    "from torchvision.transforms import ToTensor, RandomRotation, functional, Compose\n",
    "from torchvision.ops.feature_pyramid_network import LastLevelP6P7\n",
    "\n",
    "import logging"
   ]
  },
  {
   "cell_type": "code",
   "execution_count": 3,
   "id": "6698d6d9",
   "metadata": {},
   "outputs": [],
   "source": [
    "PATH = 'C:\\\\Users\\\\Diego\\\\Desktop\\\\TFI-Cazcarra'\n",
    "ELEMENT_TO_TRAIN = \"diagramas\"\n",
    "\n",
    "IMAGES_DIR = f\"{PATH}\\\\data\\\\imagenes_diagramas\"\n",
    "CLASSES_CSV = f\"{PATH}/data/csv/classes_{ELEMENT_TO_TRAIN}.csv\"\n",
    "TRAIN_CSV = f\"{PATH}/data/csv/train_{ELEMENT_TO_TRAIN}.csv\"\n",
    "TEST_CSV = f\"{PATH}/data/csv/test_{ELEMENT_TO_TRAIN}.csv\"\n",
    "VAL_CSV = f\"{PATH}/data/csv/val_{ELEMENT_TO_TRAIN}.csv\""
   ]
  },
  {
   "cell_type": "code",
   "execution_count": 4,
   "id": "99080b5e",
   "metadata": {},
   "outputs": [],
   "source": [
    "train_df = pd.read_csv(TRAIN_CSV)\n",
    "test_df = pd.read_csv(TEST_CSV)\n",
    "val_df = pd.read_csv(VAL_CSV)"
   ]
  },
  {
   "cell_type": "code",
   "execution_count": 5,
   "id": "4637db02",
   "metadata": {},
   "outputs": [],
   "source": [
    "from sklearn.preprocessing import LabelEncoder\n",
    "\n",
    "classes = pd.read_csv(CLASSES_CSV)\n",
    "le = LabelEncoder()\n",
    "le.fit(classes.nombre)\n",
    "\n",
    "le_num_arr = le.transform(classes.nombre) + 1 #Empezamos por 1 para dejarle el 0 a la 'background class'\n",
    "le_label_arr = classes.nombre.values\n",
    "\n",
    "le_dict = {k:v for k,v in zip(le_label_arr,le_num_arr)}"
   ]
  },
  {
   "cell_type": "code",
   "execution_count": 6,
   "id": "67fbdf8a",
   "metadata": {},
   "outputs": [],
   "source": [
    "class DiagramasDataset(torch.utils.data.Dataset):\n",
    "    def __init__(self, images_dir, csv_path, le_dict, transform=None, target_transform=None):\n",
    "        self.images_dir = images_dir\n",
    "        self.csv = pd.read_csv(csv_path)\n",
    "        self.images = [i for i in os.listdir(self.images_dir) \\\n",
    "                       if os.path.join(self.images_dir, i) in self.csv['image_path'].unique()]\n",
    "        self.le_dict = le_dict\n",
    "        self.transform = transform\n",
    "        self.target_transform = target_transform\n",
    "                \n",
    "    def __getitem__(self, idx):\n",
    "        image_path = self.images[idx]\n",
    "        full_image_path = os.path.join(self.images_dir, image_path)\n",
    "        df = self.csv\n",
    "        filtered_df = df[df['image_path']==full_image_path]\n",
    "        number_of_objects = filtered_df.shape[0]\n",
    "        \n",
    "        image = Image.open(full_image_path).convert(\"RGB\")\n",
    "        \n",
    "        boxes = []\n",
    "        for xmin, ymin, xmax, ymax in zip(filtered_df['xmin'], filtered_df['ymin'], filtered_df['xmax'], filtered_df['ymax']):\n",
    "            boxes.append([xmin, ymin, xmax, ymax])       \n",
    "        boxes = torch.as_tensor(boxes, dtype=torch.float32)\n",
    "        \n",
    "        labels = [self.le_dict[label] for label in filtered_df['label'].values]\n",
    "#         area = (boxes[:, 3] - boxes[:, 1]) * (boxes[:, 2] - boxes[:, 0])\n",
    "        \n",
    "        target = {}\n",
    "        target['boxes'] = boxes\n",
    "        target['labels'] = torch.as_tensor(labels, dtype=torch.int64)\n",
    "#         target['image_id'] = torch.tensor([idx])\n",
    "#         target['area'] = area\n",
    "#         target['iscrowd'] = torch.zeros((number_of_objects,), dtype=torch.int64)\n",
    "\n",
    "        if self.transform:\n",
    "            image = self.transform(image)\n",
    "        if self.target_transform:\n",
    "            target = self.target_transform(target)\n",
    "        \n",
    "        return image, target\n",
    "                \n",
    "    def __len__(self):\n",
    "        return len(self.images)"
   ]
  },
  {
   "cell_type": "code",
   "execution_count": 7,
   "id": "a0831e3f",
   "metadata": {},
   "outputs": [],
   "source": [
    "class CustomRotateTransform:\n",
    "    def __init__(self, angles: Sequence[int]):\n",
    "        self.angles = angles\n",
    "\n",
    "    def __call__(self, x):\n",
    "        angle = random.choice(self.angles)\n",
    "        return functional.rotate(x, int(angle))"
   ]
  },
  {
   "cell_type": "code",
   "execution_count": 8,
   "id": "f18d90ec",
   "metadata": {
    "scrolled": true
   },
   "outputs": [],
   "source": [
    "def transform_compose(train):\n",
    "    transforms = []\n",
    "    transforms.append(ToTensor())\n",
    "    if train:\n",
    "        angles = np.arange(0,360,90)\n",
    "        transforms.append(CustomRotateTransform(angles=angles))\n",
    "    return Compose(transforms)"
   ]
  },
  {
   "cell_type": "code",
   "execution_count": 9,
   "id": "175d6d09",
   "metadata": {},
   "outputs": [],
   "source": [
    "def collate_fn(batch):\n",
    "    return tuple(zip(*batch))"
   ]
  },
  {
   "cell_type": "code",
   "execution_count": 10,
   "id": "99f09a66",
   "metadata": {},
   "outputs": [],
   "source": [
    "train_dataset = DiagramasDataset(images_dir=IMAGES_DIR, csv_path=TRAIN_CSV, le_dict=le_dict, \\\n",
    "                                 transform=transform_compose(train=True))\n",
    "\n",
    "BATCH_SIZE = 16\n",
    "SHUFFLE = True\n",
    "\n",
    "train_dataloader = torch.utils.data.DataLoader(train_dataset, batch_size=BATCH_SIZE, \\\n",
    "                                          shuffle=SHUFFLE, num_workers=0,\\\n",
    "                                          collate_fn=collate_fn)"
   ]
  },
  {
   "cell_type": "code",
   "execution_count": 11,
   "id": "349c1774",
   "metadata": {},
   "outputs": [],
   "source": [
    "test_dataset = DiagramasDataset(images_dir=IMAGES_DIR, csv_path=TEST_CSV, le_dict=le_dict, \\\n",
    "                                 transform=transform_compose(train=False))\n",
    "\n",
    "BATCH_SIZE_TEST = 32\n",
    "\n",
    "test_dataloader = torch.utils.data.DataLoader(test_dataset, batch_size=BATCH_SIZE_TEST, \\\n",
    "                                          shuffle=SHUFFLE, num_workers=0,\\\n",
    "                                          collate_fn=collate_fn)"
   ]
  },
  {
   "cell_type": "code",
   "execution_count": 12,
   "id": "8ad0f0d5",
   "metadata": {},
   "outputs": [],
   "source": [
    "backbone = torchvision.models.resnet50(pretrained=True)\n",
    "\n",
    "trainable_backbone_layers = None\n",
    "\n",
    "trainable_backbone_layers = _validate_trainable_layers(\n",
    "        True, trainable_backbone_layers, 5, 3\n",
    "    )\n",
    "\n",
    "backbone = _resnet_fpn_extractor(\n",
    "        backbone, trainable_backbone_layers, returned_layers=[2, 3, 4], extra_blocks=LastLevelP6P7(256, 256)\n",
    "    )"
   ]
  },
  {
   "cell_type": "code",
   "execution_count": 13,
   "id": "7f6265be",
   "metadata": {},
   "outputs": [],
   "source": [
    "#Cuando se usa RPN, size y aspect_ratios no tienen que estar \"double-nested\" -> ((x,y,z,w),)\n",
    "anchor_generator = AnchorGenerator(sizes=(32, 64, 128, 256, 512),\\\n",
    "                                   aspect_ratios=(0.5, 1.0, 2.0)\n",
    "                                  )"
   ]
  },
  {
   "cell_type": "code",
   "execution_count": 14,
   "id": "dbc57b63",
   "metadata": {},
   "outputs": [],
   "source": [
    "minimum_size = 800\n",
    "for img in os.listdir(IMAGES_DIR):\n",
    "    image = np.asarray(Image.open(os.path.join(IMAGES_DIR, img)))\n",
    "    minimum_size = min(minimum_size, image.shape[0])\n",
    "    minimum_size = min(minimum_size, image.shape[1])"
   ]
  },
  {
   "cell_type": "code",
   "execution_count": 15,
   "id": "e6ef18d3",
   "metadata": {},
   "outputs": [],
   "source": [
    "# Segun la documentacion, 'num_classes (int): number of output classes of the model (including the background).'\n",
    "model = RetinaNet(backbone, \\\n",
    "                  num_classes=len(classes)+1, \\\n",
    "                  anchor_generator=anchor_generator,  \\\n",
    "                  min_size=minimum_size)"
   ]
  },
  {
   "cell_type": "code",
   "execution_count": 16,
   "id": "b4311c14",
   "metadata": {},
   "outputs": [],
   "source": [
    "LEARNING_RATE = 1e-4\n",
    "EPOCHS = 40\n",
    "DEVICE = 'cpu'\n",
    "PLATEAU_PATIENCE = 5"
   ]
  },
  {
   "cell_type": "code",
   "execution_count": 17,
   "id": "8327f840",
   "metadata": {},
   "outputs": [],
   "source": [
    "optimizer = torch.optim.SGD(model.parameters(), lr=LEARNING_RATE)\n",
    "lr_scheduler = torch.optim.lr_scheduler.ReduceLROnPlateau(optimizer, 'min', patience=PLATEAU_PATIENCE)"
   ]
  },
  {
   "cell_type": "code",
   "execution_count": 18,
   "id": "f9b6db35",
   "metadata": {},
   "outputs": [
    {
     "name": "stderr",
     "output_type": "stream",
     "text": [
      "C:\\Users\\Diego\\anaconda3\\envs\\tfi\\lib\\site-packages\\torch\\autocast_mode.py:162: UserWarning: User provided device_type of 'cuda', but CUDA is not available. Disabling\n",
      "  warnings.warn('User provided device_type of \\'cuda\\', but CUDA is not available. Disabling')\n"
     ]
    },
    {
     "name": "stdout",
     "output_type": "stream",
     "text": [
      "Epoch: [1]  [0/2]  eta: 0:00:35  lr: 0.000100  loss: 3.0830 (3.0830)  classification: 1.1280 (1.1280)  bbox_regression: 1.9550 (1.9550)  time: 17.5942  data: 1.6146\n",
      "Epoch: [1]  [1/2]  eta: 0:00:16  lr: 0.000100  loss: 3.0221 (3.0525)  classification: 1.1280 (1.1281)  bbox_regression: 1.8939 (1.9245)  time: 16.5487  data: 1.1576\n",
      "Epoch: [1] Total time: 0:00:33 (16.5487 s / it)\n"
     ]
    },
    {
     "ename": "KeyError",
     "evalue": "'image_id'",
     "output_type": "error",
     "traceback": [
      "\u001b[1;31m---------------------------------------------------------------------------\u001b[0m",
      "\u001b[1;31mKeyError\u001b[0m                                  Traceback (most recent call last)",
      "Input \u001b[1;32mIn [18]\u001b[0m, in \u001b[0;36m<cell line: 1>\u001b[1;34m()\u001b[0m\n\u001b[0;32m      2\u001b[0m _, losses_reduced \u001b[38;5;241m=\u001b[39m train_one_epoch(model, optimizer, train_dataloader, DEVICE, epoch, print_freq\u001b[38;5;241m=\u001b[39m\u001b[38;5;241m10\u001b[39m)\n\u001b[0;32m      3\u001b[0m lr_scheduler\u001b[38;5;241m.\u001b[39mstep(losses_reduced)\n\u001b[1;32m----> 4\u001b[0m \u001b[43mevaluate\u001b[49m\u001b[43m(\u001b[49m\u001b[43mmodel\u001b[49m\u001b[43m,\u001b[49m\u001b[43m \u001b[49m\u001b[43mtest_dataloader\u001b[49m\u001b[43m,\u001b[49m\u001b[43m \u001b[49m\u001b[43mdevice\u001b[49m\u001b[38;5;241;43m=\u001b[39;49m\u001b[43mDEVICE\u001b[49m\u001b[43m)\u001b[49m\n",
      "File \u001b[1;32m~\\anaconda3\\envs\\tfi\\lib\\site-packages\\torch\\autograd\\grad_mode.py:27\u001b[0m, in \u001b[0;36m_DecoratorContextManager.__call__.<locals>.decorate_context\u001b[1;34m(*args, **kwargs)\u001b[0m\n\u001b[0;32m     24\u001b[0m \u001b[38;5;129m@functools\u001b[39m\u001b[38;5;241m.\u001b[39mwraps(func)\n\u001b[0;32m     25\u001b[0m \u001b[38;5;28;01mdef\u001b[39;00m \u001b[38;5;21mdecorate_context\u001b[39m(\u001b[38;5;241m*\u001b[39margs, \u001b[38;5;241m*\u001b[39m\u001b[38;5;241m*\u001b[39mkwargs):\n\u001b[0;32m     26\u001b[0m     \u001b[38;5;28;01mwith\u001b[39;00m \u001b[38;5;28mself\u001b[39m\u001b[38;5;241m.\u001b[39mclone():\n\u001b[1;32m---> 27\u001b[0m         \u001b[38;5;28;01mreturn\u001b[39;00m func(\u001b[38;5;241m*\u001b[39margs, \u001b[38;5;241m*\u001b[39m\u001b[38;5;241m*\u001b[39mkwargs)\n",
      "File \u001b[1;32m~\\Desktop\\TFI-Cazcarra\\notebooks\\..\\src\\detection\\engine.py:87\u001b[0m, in \u001b[0;36mevaluate\u001b[1;34m(model, data_loader, device)\u001b[0m\n\u001b[0;32m     84\u001b[0m metric_logger \u001b[38;5;241m=\u001b[39m utils\u001b[38;5;241m.\u001b[39mMetricLogger(delimiter\u001b[38;5;241m=\u001b[39m\u001b[38;5;124m\"\u001b[39m\u001b[38;5;124m  \u001b[39m\u001b[38;5;124m\"\u001b[39m)\n\u001b[0;32m     85\u001b[0m header \u001b[38;5;241m=\u001b[39m \u001b[38;5;124m\"\u001b[39m\u001b[38;5;124mTest:\u001b[39m\u001b[38;5;124m\"\u001b[39m\n\u001b[1;32m---> 87\u001b[0m coco \u001b[38;5;241m=\u001b[39m \u001b[43mget_coco_api_from_dataset\u001b[49m\u001b[43m(\u001b[49m\u001b[43mdata_loader\u001b[49m\u001b[38;5;241;43m.\u001b[39;49m\u001b[43mdataset\u001b[49m\u001b[43m)\u001b[49m\n\u001b[0;32m     88\u001b[0m iou_types \u001b[38;5;241m=\u001b[39m _get_iou_types(model)\n\u001b[0;32m     89\u001b[0m coco_evaluator \u001b[38;5;241m=\u001b[39m CocoEvaluator(coco, iou_types)\n",
      "File \u001b[1;32m~\\Desktop\\TFI-Cazcarra\\notebooks\\..\\src\\detection\\coco_utils.py:206\u001b[0m, in \u001b[0;36mget_coco_api_from_dataset\u001b[1;34m(dataset)\u001b[0m\n\u001b[0;32m    204\u001b[0m \u001b[38;5;28;01mif\u001b[39;00m \u001b[38;5;28misinstance\u001b[39m(dataset, torchvision\u001b[38;5;241m.\u001b[39mdatasets\u001b[38;5;241m.\u001b[39mCocoDetection):\n\u001b[0;32m    205\u001b[0m     \u001b[38;5;28;01mreturn\u001b[39;00m dataset\u001b[38;5;241m.\u001b[39mcoco\n\u001b[1;32m--> 206\u001b[0m \u001b[38;5;28;01mreturn\u001b[39;00m \u001b[43mconvert_to_coco_api\u001b[49m\u001b[43m(\u001b[49m\u001b[43mdataset\u001b[49m\u001b[43m)\u001b[49m\n",
      "File \u001b[1;32m~\\Desktop\\TFI-Cazcarra\\notebooks\\..\\src\\detection\\coco_utils.py:156\u001b[0m, in \u001b[0;36mconvert_to_coco_api\u001b[1;34m(ds)\u001b[0m\n\u001b[0;32m    152\u001b[0m \u001b[38;5;28;01mfor\u001b[39;00m img_idx \u001b[38;5;129;01min\u001b[39;00m \u001b[38;5;28mrange\u001b[39m(\u001b[38;5;28mlen\u001b[39m(ds)):\n\u001b[0;32m    153\u001b[0m     \u001b[38;5;66;03m# find better way to get target\u001b[39;00m\n\u001b[0;32m    154\u001b[0m     \u001b[38;5;66;03m# targets = ds.get_annotations(img_idx)\u001b[39;00m\n\u001b[0;32m    155\u001b[0m     img, targets \u001b[38;5;241m=\u001b[39m ds[img_idx]\n\u001b[1;32m--> 156\u001b[0m     image_id \u001b[38;5;241m=\u001b[39m \u001b[43mtargets\u001b[49m\u001b[43m[\u001b[49m\u001b[38;5;124;43m\"\u001b[39;49m\u001b[38;5;124;43mimage_id\u001b[39;49m\u001b[38;5;124;43m\"\u001b[39;49m\u001b[43m]\u001b[49m\u001b[38;5;241m.\u001b[39mitem()\n\u001b[0;32m    157\u001b[0m     img_dict \u001b[38;5;241m=\u001b[39m {}\n\u001b[0;32m    158\u001b[0m     img_dict[\u001b[38;5;124m\"\u001b[39m\u001b[38;5;124mid\u001b[39m\u001b[38;5;124m\"\u001b[39m] \u001b[38;5;241m=\u001b[39m image_id\n",
      "\u001b[1;31mKeyError\u001b[0m: 'image_id'"
     ]
    }
   ],
   "source": [
    "for epoch in range(1, EPOCHS+1):\n",
    "    _, losses_reduced = train_one_epoch(model, optimizer, train_dataloader, DEVICE, epoch, print_freq=10)\n",
    "    lr_scheduler.step(losses_reduced)\n",
    "    evaluate(model, test_dataloader, device=DEVICE)"
   ]
  },
  {
   "cell_type": "code",
   "execution_count": null,
   "id": "90006d50",
   "metadata": {},
   "outputs": [],
   "source": [
    "# for epoch in range(1, EPOCHS+1):\n",
    "#     model.train()\n",
    "#     header = f\"Epoch: [{epoch}]\"\n",
    "#     for num, (images, targets) in enumerate(train_dataloader):\n",
    "#         images = list(image.to(DEVICE) for image in images)\n",
    "#         targets = [{k: v.to(DEVICE) for k, v in list(t.items())} for t in targets]\n",
    "        \n",
    "#         loss_dict = model(images, targets)\n",
    "#         losses = sum(loss for loss in list(loss_dict.values()))\n",
    "        \n",
    "#         optimizer.zero_grad()\n",
    "#         losses.backward()\n",
    "#         optimizer.step()\n",
    "\n",
    "#         lr_scheduler.step(losses)\n",
    "#         if num % 10 == 0:\n",
    "#             print(header, f\" [] Focal Loss: {losses}\")\n",
    "#         num+=1"
   ]
  },
  {
   "cell_type": "code",
   "execution_count": null,
   "id": "a84c38b5",
   "metadata": {},
   "outputs": [],
   "source": []
  }
 ],
 "metadata": {
  "kernelspec": {
   "display_name": "Python 3 (ipykernel)",
   "language": "python",
   "name": "python3"
  },
  "language_info": {
   "codemirror_mode": {
    "name": "ipython",
    "version": 3
   },
   "file_extension": ".py",
   "mimetype": "text/x-python",
   "name": "python",
   "nbconvert_exporter": "python",
   "pygments_lexer": "ipython3",
   "version": "3.9.12"
  }
 },
 "nbformat": 4,
 "nbformat_minor": 5
}
