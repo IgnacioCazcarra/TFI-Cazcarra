{
 "cells": [
  {
   "cell_type": "code",
   "execution_count": 1,
   "id": "82a92e35",
   "metadata": {},
   "outputs": [],
   "source": [
    "%load_ext autoreload\n",
    "%autoreload 2\n",
    "%matplotlib inline"
   ]
  },
  {
   "cell_type": "code",
   "execution_count": 2,
   "id": "ab04a38d",
   "metadata": {},
   "outputs": [],
   "source": [
    "import sys\n",
    "sys.path.append(\"../\")\n",
    "\n",
    "from src.training_utils.training import load_model\n",
    "from src.line_detection.hough import *\n",
    "from ast import literal_eval\n",
    "from src.ocr_utils.ocr import *"
   ]
  },
  {
   "cell_type": "code",
   "execution_count": 16,
   "id": "3c3bd6df",
   "metadata": {},
   "outputs": [],
   "source": [
    "import os\n",
    "import cv2\n",
    "import torch\n",
    "import numpy as np\n",
    "import pandas as pd\n",
    "from IPython.display import display\n",
    "from PIL import Image\n",
    "from torchvision import transforms as T\n",
    "import torchvision\n",
    "from paddleocr import PaddleOCR"
   ]
  },
  {
   "cell_type": "code",
   "execution_count": 4,
   "id": "1fb8b186",
   "metadata": {},
   "outputs": [],
   "source": [
    "PATH_MODELS = \"/home/nacho/TFI-Cazcarra/data/models\"\n",
    "PATH_YOLO = \"/home/nacho/TFI-Cazcarra/yolov3/runs/train\""
   ]
  },
  {
   "cell_type": "markdown",
   "id": "9b7f6eb5",
   "metadata": {},
   "source": [
    "## Realizo predicciones"
   ]
  },
  {
   "cell_type": "code",
   "execution_count": 5,
   "id": "7d64ca28",
   "metadata": {},
   "outputs": [],
   "source": [
    "img_path = '/home/nacho/TFI-Cazcarra/data/imagenes_diagramas/ERDiagramsMySQL-5.png'\n",
    "img = Image.open(img_path).convert(\"RGB\")\n",
    "transform = T.Compose([T.ToTensor()])\n",
    "img_tensor = transform(img)"
   ]
  },
  {
   "cell_type": "code",
   "execution_count": null,
   "id": "e9870d3e",
   "metadata": {},
   "outputs": [],
   "source": [
    "def draw_bbox(img, xmin, ymin, xmax, ymax, score, label): \n",
    "    txt = get_class_name(label, le_dict) + ' ' + str(score)\n",
    "    img = cv2.putText(img, txt, (int(xmin), int(ymin)),\n",
    "                      cv2.FONT_HERSHEY_SIMPLEX, 0.75, (0,0,255), 1)\n",
    "\n",
    "    return cv2.rectangle(img, (int(xmin), int(ymin)), (int(xmax), int(ymax)), \n",
    "                         (255,0,0), 1)"
   ]
  },
  {
   "cell_type": "markdown",
   "id": "41afe6e0",
   "metadata": {},
   "source": [
    "### 1. Extraigo las tablas"
   ]
  },
  {
   "cell_type": "code",
   "execution_count": null,
   "id": "75bc564e",
   "metadata": {},
   "outputs": [],
   "source": [
    "retinanet_tablas = load_model(os.path.join(PATH_MODELS, \"model_best_tablas_retinanet.pt\"))\n",
    "faster_rcnn_tablas = load_model(os.path.join(PATH_MODELS, \"model_best_tablas_fasterrcnn.pt\"))"
   ]
  },
  {
   "cell_type": "code",
   "execution_count": null,
   "id": "a3b4721b",
   "metadata": {},
   "outputs": [],
   "source": [
    "yolo_tablas = torch.hub.load('ultralytics/yolov5', 'custom', \\\n",
    "                             os.path.join(PATH_YOLO, \"exp5\", \"weights\", \"best.pt\"))"
   ]
  },
  {
   "cell_type": "code",
   "execution_count": null,
   "id": "416a2c45",
   "metadata": {
    "scrolled": true
   },
   "outputs": [],
   "source": [
    "tablas_1 = retinanet_tablas([img_tensor])\n",
    "valid_idx_1 = torchvision.ops.nms(tablas_1[1][0]['boxes'], tablas_1[1][0]['scores'], 0.1)\n",
    "\n",
    "coords_1 = tablas_1[1][0]['boxes'][valid_idx_1]\n",
    "scores_1 = tablas_1[1][1]['scores'][valid_idx_1]"
   ]
  },
  {
   "cell_type": "code",
   "execution_count": null,
   "id": "509d02f7",
   "metadata": {},
   "outputs": [],
   "source": [
    "tablas_2 = faster_rcnn_tablas([img_tensor])\n",
    "valid_idx_2 = torchvision.ops.nms(tablas_2[1][0]['boxes'], tablas_2[1][0]['scores'], 0.1)\n",
    "\n",
    "coords_2 = tablas_2[1][0]['boxes'][valid_idx_1]\n",
    "scores_2 = tablas_2[1][1]['scores'][valid_idx_1]"
   ]
  },
  {
   "cell_type": "code",
   "execution_count": null,
   "id": "b5cab39d",
   "metadata": {},
   "outputs": [],
   "source": [
    "tablas_3 = yolo_tablas(Image.open('/home/nacho/TFI-Cazcarra/data/imagenes_diagramas/ERDiagramsMySQL-1.png').convert(\"RGB\"))\n",
    "\n",
    "#x1 y1 x2 y2 score class\n",
    "coords_3 = tablas_3.xyxyn[0][:, :4]\n",
    "scores_3 = tablas_3.xyxyn[0][:, 4]\n",
    "\n",
    "valid_idx_3 = torchvision.ops.nms(coords_3, scores_3, 0.1)\n",
    "\n",
    "# Falta filtrar acá"
   ]
  },
  {
   "cell_type": "markdown",
   "id": "bd3135c5",
   "metadata": {},
   "source": [
    "### 2. Extraigo las cardinalidades"
   ]
  },
  {
   "cell_type": "code",
   "execution_count": null,
   "id": "a9d486c9",
   "metadata": {},
   "outputs": [],
   "source": [
    "retinanet_tablas = load_model(os.path.join(PATH_MODELS, \"model_best_cardinalidades_retinanet.pt\"))\n",
    "faster_rcnn_tablas = load_model(os.path.join(PATH_MODELS, \"model_best_cardinalidades_fasterrcnn.pt\"))\n",
    "\n",
    "yolo_tablas = torch.hub.load('ultralytics/yolov5', 'custom', \\\n",
    "                             os.path.join(PATH_YOLO, \"exp3\", \"weights\", \"best.pt\"))"
   ]
  },
  {
   "cell_type": "code",
   "execution_count": null,
   "id": "ace65500",
   "metadata": {},
   "outputs": [],
   "source": [
    "## TODO: Dividir la imagen en frames y etc etc."
   ]
  },
  {
   "cell_type": "code",
   "execution_count": null,
   "id": "8bd4e86f",
   "metadata": {},
   "outputs": [],
   "source": []
  },
  {
   "cell_type": "markdown",
   "id": "d6c08f62",
   "metadata": {},
   "source": [
    "## Encuentro las líneas y junto con las cardinalidades"
   ]
  },
  {
   "cell_type": "code",
   "execution_count": 6,
   "id": "3c5f6f3b",
   "metadata": {},
   "outputs": [],
   "source": [
    "OFFSET_TABLAS = 5"
   ]
  },
  {
   "cell_type": "code",
   "execution_count": 7,
   "id": "bfbae858",
   "metadata": {},
   "outputs": [],
   "source": [
    "def find_lines(img_path):\n",
    "    img_basename = os.path.basename(img_path)\n",
    "    tablas, cardinalidades = get_tablas(img_basename)\n",
    "    #Agrandamos un toque las cajas\n",
    "    offset = np.array([-OFFSET_TABLAS, -OFFSET_TABLAS, OFFSET_TABLAS, OFFSET_TABLAS]).reshape(1,4)\n",
    "    tablas = np.sum([tablas, offset])\n",
    "\n",
    "    #No le paso las cardinalidades.\n",
    "    img, all_lines = apply_hough(img_path, tablas, [])\n",
    "\n",
    "    all_points = lines_to_points(all_lines)\n",
    "    lines = hough_detecting(all_points)\n",
    "\n",
    "    return unify_cardinalidades(img, lines, cardinalidades)"
   ]
  },
  {
   "cell_type": "code",
   "execution_count": 8,
   "id": "0bf5ee70",
   "metadata": {},
   "outputs": [],
   "source": [
    "def line_to_points(x, y, max_dst_per_points=2):\n",
    "    dst_line = math.dist(x,y)\n",
    "    parts = dst_line // max_dst_per_points\n",
    "    return np.linspace(x, y, int(parts)+1).tolist()\n",
    "\n",
    "\n",
    "def dist_func(comb):\n",
    "    return math.dist(comb[0], comb[1])\n",
    "\n",
    "\n",
    "def get_centroid(cardinalidad):\n",
    "    center_x  = cardinalidad[0] + (cardinalidad[2] - cardinalidad[0])/2\n",
    "    center_y  = cardinalidad[1] + (cardinalidad[3] - cardinalidad[1])/2\n",
    "    return (center_x, center_y)\n",
    "\n",
    "def nearest_tabla_from_cardinalidad(cardinalidad, tablas):\n",
    "    # Dadas las coords de una cardinalidad, devolver a qué tabla está más cerca.\n",
    "    # TODO: Puedo mezclarlo con el de OCR y reemplazar las coordenadas por el nombre de la\n",
    "    # tabla... asi se entiende mejor. Esto quizás no hace falta pero no estaría mal.\n",
    "    cardinalidad = literal_eval(cardinalidad)\n",
    "    cardinalidad_centroid = get_centroid(cardinalidad)\n",
    "    dict_dist_tablas = {}\n",
    "    for t in tablas:\n",
    "        tabla_points = []\n",
    "        # De x1y1 a x2y1\n",
    "        tabla_points += line_to_points((t[0], t[1]), (t[2], t[1]))\n",
    "        # De x1y1 a x1y2\n",
    "        tabla_points += line_to_points((t[0], t[1]), (t[0], t[3]))\n",
    "        # De x1y2 a x2y2\n",
    "        tabla_points += line_to_points((t[0], t[3]), (t[2], t[3]))\n",
    "        # De x2y1 a x2y2\n",
    "        tabla_points += line_to_points((t[2], t[1]), (t[2], t[3]))\n",
    "        dist_cardinalidad = [(cardinalidad_centroid, point) for point in tabla_points]\n",
    "        min_combination = min(dist_cardinalidad, key=dist_func)\n",
    "        dict_dist_tablas[\",\".join([str(c) for c in t])] = dist_func(min_combination)\n",
    "    nearest_tabla = min(dict_dist_tablas, key=dict_dist_tablas.get)\n",
    "    return [int(c) for c in nearest_tabla.split(\",\")]"
   ]
  },
  {
   "cell_type": "code",
   "execution_count": 9,
   "id": "d50bf1d8",
   "metadata": {},
   "outputs": [],
   "source": [
    "pairs = []\n",
    "\n",
    "img_basename = os.path.basename(img_path)\n",
    "tablas, _ = get_tablas(img_basename)\n",
    "\n",
    "for line_name, line in find_lines(img_path).items():\n",
    "    cardinalidades = line.split(\"|\")\n",
    "    tabla_a = nearest_tabla_from_cardinalidad(cardinalidades[0], tablas)\n",
    "    tabla_b = nearest_tabla_from_cardinalidad(cardinalidades[1], tablas)\n",
    "    pairs.append((tabla_a, tabla_b))"
   ]
  },
  {
   "cell_type": "code",
   "execution_count": 10,
   "id": "4ae7c211",
   "metadata": {},
   "outputs": [
    {
     "data": {
      "text/plain": [
       "[([289, 16, 440, 150], [18, 89, 211, 344]),\n",
       " ([291, 191, 449, 383], [18, 89, 211, 344]),\n",
       " ([291, 191, 449, 383], [516, 241, 664, 334])]"
      ]
     },
     "execution_count": 10,
     "metadata": {},
     "output_type": "execute_result"
    }
   ],
   "source": [
    "pairs"
   ]
  },
  {
   "cell_type": "markdown",
   "id": "0391a2c7",
   "metadata": {},
   "source": [
    "## OCR"
   ]
  },
  {
   "cell_type": "code",
   "execution_count": 11,
   "id": "99074250",
   "metadata": {},
   "outputs": [],
   "source": [
    "# Una vez que tenemos la lista de tuplas con las conexiones de las tablas, podemos sacar\n",
    "# las FK y de ahi, descartar los demás y poder sacar la/s PK."
   ]
  },
  {
   "cell_type": "code",
   "execution_count": 13,
   "id": "40644237",
   "metadata": {},
   "outputs": [],
   "source": [
    "# TODO: Choose algo and language.\n",
    "ocr = PaddleOCR(use_angle_cls=False, lang='en', show_log=False, \n",
    "                det_algorithm_dir=\"/home/nacho/TFI-Cazcarra/ocr/db/\", \n",
    "                rec_algorithm_dir=\"/home/nacho/TFI-Cazcarra/ocr/svtr/\", det_db_score_mode=\"slow\") "
   ]
  },
  {
   "cell_type": "code",
   "execution_count": 22,
   "id": "33199628",
   "metadata": {},
   "outputs": [],
   "source": [
    "coords = []\n",
    "results = []\n",
    "\n",
    "img_arr = np.array(img)\n",
    "\n",
    "for t in tablas:\n",
    "    tabla_cropped = img_arr[t[1]:t[3], t[0]:t[2]]\n",
    "    tabla_cropped = reescale(tabla_cropped)\n",
    "    if len(tabla_cropped.shape) == 3 and tabla_cropped.shape[-1] > 3:\n",
    "        tabla_cropped = tabla_cropped[:,:,:3]\n",
    "    result = ocr.ocr(tabla_cropped, cls=False)\n",
    "    \n",
    "    coords.append(t.tolist())\n",
    "    results.append(result[0])"
   ]
  },
  {
   "cell_type": "code",
   "execution_count": 25,
   "id": "fc6e587c",
   "metadata": {},
   "outputs": [],
   "source": [
    "all_tables = {}\n",
    "tables_names = {}\n",
    "\n",
    "for c, r in zip(coords, results):\n",
    "    boxes = [line[0] for line in r]\n",
    "    txts = [line[1][0].strip() for line in r]\n",
    "    scores = [line[1][1] for line in r]\n",
    "    table, dict_attributes = clean_texts(txts)\n",
    "    all_tables[table] = dict_attributes\n",
    "    tables_names[table] = c"
   ]
  },
  {
   "cell_type": "code",
   "execution_count": 41,
   "id": "a53bcd0d",
   "metadata": {},
   "outputs": [],
   "source": [
    "def pairs_to_names(pairs, tables_names):\n",
    "    new_pairs = []\n",
    "    tables_names = {str(v):k for k,v in tables_names.items()}\n",
    "    \n",
    "    for pair in pairs:\n",
    "        tabla_a, tabla_b = pair\n",
    "        tabla_a, tabla_b = tables_names[str(tabla_a)], tables_names[str(tabla_b)]\n",
    "        new_pairs.append((tabla_a, tabla_b))\n",
    "    return new_pairs"
   ]
  },
  {
   "cell_type": "code",
   "execution_count": 42,
   "id": "06cf2c8a",
   "metadata": {
    "scrolled": true
   },
   "outputs": [
    {
     "data": {
      "text/plain": [
       "[('tokens', 'users'), ('poems', 'users'), ('poems', 'categories')]"
      ]
     },
     "execution_count": 42,
     "metadata": {},
     "output_type": "execute_result"
    }
   ],
   "source": [
    "pairs_to_names(pairs, tables_names)"
   ]
  },
  {
   "cell_type": "code",
   "execution_count": 51,
   "id": "07a2629a",
   "metadata": {},
   "outputs": [],
   "source": [
    "def extract_candidate_keys(table_attributes):\n",
    "    for att in table_attributes:\n",
    "        if \"_id\" in att:\n",
    "            print(att)"
   ]
  },
  {
   "cell_type": "code",
   "execution_count": 53,
   "id": "999d16d3",
   "metadata": {},
   "outputs": [
    {
     "name": "stdout",
     "output_type": "stream",
     "text": [
      "user_id\n",
      "poem_id\n",
      "category_id\n",
      "user_id\n",
      "token_id\n",
      "user_id\n",
      "category_id\n"
     ]
    }
   ],
   "source": [
    "## TODO: En base a esto construir las FK y las PK. Una vez hecho eso, también definir las many to many.\n",
    "for k in all_tables.keys():  \n",
    "    extract_candidate_keys(all_tables[k].keys())"
   ]
  },
  {
   "cell_type": "markdown",
   "id": "5cf164be",
   "metadata": {},
   "source": [
    "## Una vez que está todo hecho, unificar acá y detectar puntos de mejora."
   ]
  },
  {
   "cell_type": "code",
   "execution_count": null,
   "id": "96da2622",
   "metadata": {},
   "outputs": [],
   "source": []
  },
  {
   "cell_type": "code",
   "execution_count": null,
   "id": "0ff655c4",
   "metadata": {},
   "outputs": [],
   "source": []
  }
 ],
 "metadata": {
  "kernelspec": {
   "display_name": "Python 3 (ipykernel)",
   "language": "python",
   "name": "python3"
  },
  "language_info": {
   "codemirror_mode": {
    "name": "ipython",
    "version": 3
   },
   "file_extension": ".py",
   "mimetype": "text/x-python",
   "name": "python",
   "nbconvert_exporter": "python",
   "pygments_lexer": "ipython3",
   "version": "3.8.10"
  }
 },
 "nbformat": 4,
 "nbformat_minor": 5
}
