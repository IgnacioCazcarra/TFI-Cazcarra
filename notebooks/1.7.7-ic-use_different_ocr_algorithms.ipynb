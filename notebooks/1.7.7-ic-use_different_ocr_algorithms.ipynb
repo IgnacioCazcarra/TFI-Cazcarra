{
 "cells": [
  {
   "cell_type": "markdown",
   "id": "311157fb",
   "metadata": {},
   "source": [
    "## Comparación de los distintos algoritmos de detección - DB y EAST.\n",
    "- De ahi se elige DB porque es mejor, y se pasa a la versión entrenada con más datos que es la que usamos.\n",
    "\n",
    "## Comparación de los distintos algoritmos de reconocimiento - CRNN y SVTR.\n",
    "- Para comparar CRNN y SVTR, podemos usar los entrenados por el PP-OCR-v3 y listo\n"
   ]
  },
  {
   "cell_type": "code",
   "execution_count": 1,
   "id": "ad0bd732",
   "metadata": {},
   "outputs": [],
   "source": [
    "%load_ext autoreload\n",
    "%autoreload 2\n",
    "%matplotlib inline"
   ]
  },
  {
   "cell_type": "code",
   "execution_count": 2,
   "id": "98b6c05c",
   "metadata": {},
   "outputs": [
    {
     "name": "stderr",
     "output_type": "stream",
     "text": [
      "2023-03-09 01:31:36.787574: I tensorflow/core/platform/cpu_feature_guard.cc:193] This TensorFlow binary is optimized with oneAPI Deep Neural Network Library (oneDNN) to use the following CPU instructions in performance-critical operations:  AVX2 FMA\n",
      "To enable them in other operations, rebuild TensorFlow with the appropriate compiler flags.\n",
      "2023-03-09 01:31:38.236676: W tensorflow/compiler/xla/stream_executor/platform/default/dso_loader.cc:64] Could not load dynamic library 'libnvinfer.so.7'; dlerror: libnvinfer.so.7: cannot open shared object file: No such file or directory; LD_LIBRARY_PATH: /home/nacho/TFI-Cazcarra/venv/lib/python3.8/site-packages/cv2/../../lib64:\n",
      "2023-03-09 01:31:38.236850: W tensorflow/compiler/xla/stream_executor/platform/default/dso_loader.cc:64] Could not load dynamic library 'libnvinfer_plugin.so.7'; dlerror: libnvinfer_plugin.so.7: cannot open shared object file: No such file or directory; LD_LIBRARY_PATH: /home/nacho/TFI-Cazcarra/venv/lib/python3.8/site-packages/cv2/../../lib64:\n",
      "2023-03-09 01:31:38.236869: W tensorflow/compiler/tf2tensorrt/utils/py_utils.cc:38] TF-TRT Warning: Cannot dlopen some TensorRT libraries. If you would like to use Nvidia GPU with TensorRT, please make sure the missing libraries mentioned above are installed properly.\n",
      "2023-03-09 01:31:39.370930: W tensorflow/compiler/xla/stream_executor/platform/default/dso_loader.cc:64] Could not load dynamic library 'libcuda.so.1'; dlerror: libcuda.so.1: cannot open shared object file: No such file or directory; LD_LIBRARY_PATH: /home/nacho/TFI-Cazcarra/venv/lib/python3.8/site-packages/cv2/../../lib64:\n",
      "2023-03-09 01:31:39.370953: W tensorflow/compiler/xla/stream_executor/cuda/cuda_driver.cc:265] failed call to cuInit: UNKNOWN ERROR (303)\n",
      "2023-03-09 01:31:39.370972: I tensorflow/compiler/xla/stream_executor/cuda/cuda_diagnostics.cc:156] kernel driver does not appear to be running on this host (labambina): /proc/driver/nvidia/version does not exist\n"
     ]
    }
   ],
   "source": [
    "import sys\n",
    "\n",
    "sys.path.append(\"../\")\n",
    "\n",
    "from src.detection.prediction_utils import choose_model, filter_predictions\n",
    "from src.ocr_utils.ocr import get_ocr_model, reescale, predict_ocr\n",
    "from src.line_detection.hough import get_tablas\n"
   ]
  },
  {
   "cell_type": "code",
   "execution_count": 3,
   "id": "d8a5b40e",
   "metadata": {},
   "outputs": [],
   "source": [
    "from PIL import Image\n",
    "from IPython.display import display\n",
    "from torchvision import transforms as T\n",
    "import numpy as np\n",
    "import cv2\n",
    "from glob import glob\n",
    "import copy\n",
    "import matplotlib.pyplot as plt\n",
    "from matplotlib import rcParams\n",
    "\n",
    "%matplotlib inline"
   ]
  },
  {
   "cell_type": "code",
   "execution_count": 4,
   "id": "5e37d398",
   "metadata": {},
   "outputs": [],
   "source": [
    "from paddleocr.paddleocr import PaddleOCR\n",
    "from paddleocr.tools.infer import predict_det, predict_rec\n",
    "from paddleocr.tools.infer import utility\n",
    "from paddleocr.tools.infer.predict_system import sorted_boxes\n",
    "from paddleocr.tools.infer.utility import get_rotate_crop_image, get_minarea_rect_crop"
   ]
  },
  {
   "cell_type": "code",
   "execution_count": 5,
   "id": "fdaf36b5",
   "metadata": {},
   "outputs": [],
   "source": [
    "FILES = glob(\"../data/images_testing/ocr*.jpeg\") + glob(\"../data/images_testing/ocr*.png\")\n",
    "\n",
    "map_files = {\n",
    "    '../data/images_testing/ocr_test1.jpeg': \\\n",
    "            \"/home/nacho/TFI-Cazcarra/data/imagenes_diagramas/ERDiagramsMySQL-65.png\",\n",
    "    \n",
    "    '../data/images_testing/ocr_test2.png':\\\n",
    "            \"/home/nacho/TFI-Cazcarra/data/imagenes_diagramas/ERDiagramsMySQL-5.png\",\n",
    "    \n",
    "    '../data/images_testing/ocr_test3.jpeg':\\\n",
    "            \"/home/nacho/TFI-Cazcarra/data/imagenes_diagramas/ERDiagramsMySQL-63.png\",\n",
    "    \n",
    "    '../data/images_testing/ocr_test4.png':\\\n",
    "            \"/home/nacho/TFI-Cazcarra/data/imagenes_diagramas/ERDiagramsMySQL-11.png\",\n",
    "    \n",
    "    '../data/images_testing/ocr_test5.jpeg':\\\n",
    "            \"/home/nacho/TFI-Cazcarra/data/imagenes_diagramas/ERDiagramsMySQL-15.png\", \n",
    "      }"
   ]
  },
  {
   "cell_type": "markdown",
   "id": "961b8ddd",
   "metadata": {},
   "source": [
    "## Utils"
   ]
  },
  {
   "cell_type": "code",
   "execution_count": 6,
   "id": "bdcf9fe2",
   "metadata": {},
   "outputs": [],
   "source": [
    "def draw_bbox(img, xmin, ymin, xmax, ymax, color):\n",
    "    isClosed = True\n",
    "    thickness = 2\n",
    "    pts = np.array([xmin, ymin, xmax, ymax])\n",
    "    return cv2.polylines(img, [pts], isClosed, color, thickness)\n",
    "\n",
    "def visualize_boxes(img, boxes, color=(0, 255, 0)):\n",
    "    img = np.array(img)\n",
    "    for b in boxes:\n",
    "        xmin = b[0].astype(int).tolist()\n",
    "        ymin = b[1].astype(int).tolist()\n",
    "        xmax = b[2].astype(int).tolist()\n",
    "        ymax = b[3].astype(int).tolist()\n",
    "        img = draw_bbox(img, xmin, ymin, xmax, ymax, color)\n",
    "    return Image.fromarray(img)\n",
    "\n",
    "\n",
    "def images_together(images, titles=[]):\n",
    "    # figure size in inches optional\n",
    "    rcParams['figure.figsize'] = (14, 14)\n",
    "\n",
    "    # display images\n",
    "    fig, ax = plt.subplots(1,len(images))\n",
    "    \n",
    "    for i in range(len(images)):\n",
    "        ax[i].imshow(images[i])\n",
    "        ax[i].set_title(titles[i])\n",
    "        ax[i].set_xticks([])\n",
    "        ax[i].set_yticks([])\n",
    "\n",
    "    plt.show()"
   ]
  },
  {
   "cell_type": "markdown",
   "id": "968a638e",
   "metadata": {},
   "source": [
    "## Detección - DB vs EAST"
   ]
  },
  {
   "cell_type": "code",
   "execution_count": null,
   "id": "ddf1b753",
   "metadata": {},
   "outputs": [],
   "source": [
    "args = utility.init_args()\n",
    "args = args.parse_args(args=[])\n",
    "args.det_model_dir = \"../ocr/db/inference/\"\n",
    "db = predict_det.TextDetector(args)\n",
    "\n",
    "args = utility.init_args()\n",
    "args = args.parse_args(args=[])\n",
    "args.det_model_dir = \"../ocr/east/inference/\"\n",
    "args.det_algorithm = \"EAST\"\n",
    "args.det_east_cover_thresh = 0.20\n",
    "east = predict_det.TextDetector(args)"
   ]
  },
  {
   "cell_type": "code",
   "execution_count": null,
   "id": "d7781d43",
   "metadata": {},
   "outputs": [],
   "source": [
    "default = PaddleOCR(lang=\"en\")"
   ]
  },
  {
   "cell_type": "code",
   "execution_count": null,
   "id": "0ea75a60",
   "metadata": {
    "scrolled": true
   },
   "outputs": [],
   "source": [
    "where_to_search = [\"/home/nacho/TFI-Cazcarra/data/csv/train_diagramas_2023.csv\", \n",
    "                  \"/home/nacho/TFI-Cazcarra/data/csv/test_diagramas_2023.csv\"]\n",
    "scale_percent = 100\n",
    "for img_path in FILES:\n",
    "    img = Image.open(img_path).convert(\"RGB\")\n",
    "    img_arr = img if isinstance(img, np.ndarray) else np.array(img)\n",
    "    tablas, cardinalidades = get_tablas(map_files[img_path], where_to_search)\n",
    "    results_img = []\n",
    "    for t in tablas:\n",
    "        tabla_cropped = img_arr[t[1]:t[3], t[0]:t[2]]\n",
    "        if len(tabla_cropped.shape) == 3 and tabla_cropped.shape[-1] > 3:\n",
    "            tabla_cropped = tabla_cropped[:,:,:3]\n",
    "        boxes_db, scores = db(tabla_cropped)\n",
    "        print(len(boxes_db))\n",
    "        boxes_east, _ = east(tabla_cropped)\n",
    "        print(len(boxes_east))\n",
    "        boxes_default, _ = default.text_detector(tabla_cropped)\n",
    "        plotted_db = visualize_boxes(tabla_cropped, boxes_db, color=(0, 0, 255))\n",
    "        plotted_east = visualize_boxes(tabla_cropped, boxes_east, color=(0, 255, 0))\n",
    "        plotted_default = visualize_boxes(tabla_cropped, boxes_default, color=(255, 0, 0))\n",
    "                \n",
    "        display(images_together([tabla_cropped, plotted_db, plotted_east, plotted_default],\n",
    "                               titles=[\"Imagen original\", \"Predicciones DB\", \"Predicciones EAST\", \n",
    "                                       \"Predicciones DB v2*\"]))"
   ]
  },
  {
   "cell_type": "markdown",
   "id": "34b9a831",
   "metadata": {},
   "source": [
    "## Reconocimiento - CRNN vs SVTR"
   ]
  },
  {
   "cell_type": "code",
   "execution_count": null,
   "id": "d370fec4",
   "metadata": {
    "scrolled": true
   },
   "outputs": [],
   "source": [
    "crnn = PaddleOCR(ocr_version=\"PP-OCRv2\")\n",
    "svtr = PaddleOCR(ocr_version=\"PP-OCRv3\", lang=\"en\")\n",
    "# crnn = PaddleOCR(rec_algorithm=\"CRNN\", det_algorithm=\"DB\", lang=\"en\")"
   ]
  },
  {
   "cell_type": "code",
   "execution_count": null,
   "id": "bf7140e9",
   "metadata": {
    "scrolled": true
   },
   "outputs": [],
   "source": [
    "where_to_search = [\"/home/nacho/TFI-Cazcarra/data/csv/train_diagramas_2023.csv\", \n",
    "                  \"/home/nacho/TFI-Cazcarra/data/csv/test_diagramas_2023.csv\"]\n",
    "scale_percent = 150\n",
    "img_dict_svtr = {}\n",
    "img_dict_crnn = {}\n",
    "FILES = [f for f in FILES if \"png\" in f]\n",
    "for img_path in FILES:\n",
    "    print(img_path)\n",
    "    img = Image.open(img_path).convert(\"RGB\")\n",
    "    img_arr = img if isinstance(img, np.ndarray) else np.array(img)\n",
    "    tablas, cardinalidades = get_tablas(map_files[img_path], where_to_search)\n",
    "    results_img = []\n",
    "    tablas_dict_svtr = {}\n",
    "    tablas_dict_crnn = {}\n",
    "    for t in tablas:\n",
    "        tabla_cropped = img_arr[t[1]:t[3], t[0]:t[2]]\n",
    "        tabla_cropped = reescale(tabla_cropped, scale_percent)\n",
    "        if len(tabla_cropped.shape) == 3 and tabla_cropped.shape[-1] > 3:\n",
    "            tabla_cropped = tabla_cropped[:,:,:3]\n",
    "        display(Image.fromarray(tabla_cropped))\n",
    "        ori_im = np.array(tabla_cropped).copy()\n",
    "        dt_boxes = svtr.text_detector(tabla_cropped)[0]\n",
    "        dt_boxes = sorted_boxes(dt_boxes)\n",
    "        img_crop_list = []\n",
    "        for bno in range(len(dt_boxes)):\n",
    "            tmp_box = copy.deepcopy(dt_boxes[bno])\n",
    "            img_crop = get_rotate_crop_image(ori_im, tmp_box)\n",
    "            img_crop_list.append(img_crop)\n",
    "            display(Image.fromarray(img_crop))\n",
    "        \n",
    "        results_svtr = svtr.text_recognizer(img_crop_list)\n",
    "        results_crnn = crnn.text_recognizer(img_crop_list)\n",
    "        \n",
    "        tablas_dict_svtr[str(t)] = [r[0] for r in results_svtr[0]]\n",
    "        tablas_dict_crnn[str(t)] = [r[0] for r in results_crnn[0]]\n",
    "        \n",
    "    img_dict_crnn[img_path] = tablas_dict_crnn\n",
    "    img_dict_svtr[img_path] = tablas_dict_svtr    "
   ]
  },
  {
   "cell_type": "code",
   "execution_count": null,
   "id": "cf2decf6",
   "metadata": {
    "scrolled": false
   },
   "outputs": [],
   "source": [
    "for k in img_dict_crnn['../data/images_testing/ocr_test4.png']:\n",
    "    print(img_dict_crnn['../data/images_testing/ocr_test4.png'][k], \",\")"
   ]
  },
  {
   "cell_type": "code",
   "execution_count": 7,
   "id": "b8b71930",
   "metadata": {},
   "outputs": [
    {
     "name": "stdout",
     "output_type": "stream",
     "text": [
      "[2023/03/09 01:31:45] ppocr DEBUG: Namespace(alpha=1.0, benchmark=False, beta=1.0, cls_batch_num=6, cls_image_shape='3, 48, 192', cls_model_dir='/home/nacho/.paddleocr/whl/cls/ch_ppocr_mobile_v2.0_cls_infer', cls_thresh=0.9, cpu_threads=10, crop_res_save_dir='./output', det=True, det_algorithm='DB', det_box_type='quad', det_db_box_thresh=0.6, det_db_score_mode='fast', det_db_thresh=0.3, det_db_unclip_ratio=1.5, det_east_cover_thresh=0.1, det_east_nms_thresh=0.2, det_east_score_thresh=0.8, det_limit_side_len=960, det_limit_type='max', det_model_dir='/home/nacho/.paddleocr/whl/det/en/en_PP-OCRv3_det_infer', det_pse_box_thresh=0.85, det_pse_min_area=16, det_pse_scale=1, det_pse_thresh=0, det_sast_nms_thresh=0.2, det_sast_score_thresh=0.5, draw_img_save_dir='./inference_results', drop_score=0.5, e2e_algorithm='PGNet', e2e_char_dict_path='./ppocr/utils/ic15_dict.txt', e2e_limit_side_len=768, e2e_limit_type='max', e2e_model_dir=None, e2e_pgnet_mode='fast', e2e_pgnet_score_thresh=0.5, e2e_pgnet_valid_set='totaltext', enable_mkldnn=False, fourier_degree=5, gpu_mem=500, help='==SUPPRESS==', image_dir=None, image_orientation=False, ir_optim=True, kie_algorithm='LayoutXLM', label_list=['0', '180'], lang='en', layout=True, layout_dict_path=None, layout_model_dir=None, layout_nms_threshold=0.5, layout_score_threshold=0.5, max_batch_size=10, max_text_length=25, merge_no_span_structure=True, min_subgraph_size=15, mode='structure', ocr=True, ocr_order_method=None, ocr_version='PP-OCRv3', output='./output', page_num=0, precision='fp32', process_id=0, re_model_dir=None, rec=True, rec_algorithm='SVTR_LCNet', rec_batch_num=6, rec_char_dict_path='/home/nacho/TFI-Cazcarra/venv/lib/python3.8/site-packages/paddleocr/ppocr/utils/en_dict.txt', rec_image_inverse=True, rec_image_shape='3, 48, 320', rec_model_dir='/home/nacho/.paddleocr/whl/rec/en/en_PP-OCRv3_rec_infer', recovery=False, save_crop_res=False, save_log_path='./log_output/', scales=[8, 16, 32], ser_dict_path='../train_data/XFUND/class_list_xfun.txt', ser_model_dir=None, show_log=True, sr_batch_num=1, sr_image_shape='3, 32, 128', sr_model_dir=None, structure_version='PP-StructureV2', table=True, table_algorithm='TableAttn', table_char_dict_path=None, table_max_len=488, table_model_dir=None, total_process_num=1, type='ocr', use_angle_cls=False, use_dilation=False, use_gpu=False, use_mp=False, use_npu=False, use_onnx=False, use_pdf2docx_api=False, use_pdserving=False, use_space_char=True, use_tensorrt=False, use_visual_backbone=True, use_xpu=False, vis_font_path='./doc/fonts/simfang.ttf', warmup=False)\n"
     ]
    }
   ],
   "source": [
    "ocr = PaddleOCR(lang=\"en\")"
   ]
  },
  {
   "cell_type": "code",
   "execution_count": 13,
   "id": "1df2f0b3",
   "metadata": {
    "scrolled": false
   },
   "outputs": [
    {
     "data": {
      "text/plain": [
       "'../data/images_testing/ocr_test4.png'"
      ]
     },
     "metadata": {},
     "output_type": "display_data"
    },
    {
     "data": {
      "image/png": "[encoded data removed]",
      "text/plain": [
       "<PIL.Image.Image image mode=RGB size=388x280>"
      ]
     },
     "metadata": {},
     "output_type": "display_data"
    },
    {
     "name": "stdout",
     "output_type": "stream",
     "text": [
      "[2023/03/09 02:22:19] ppocr DEBUG: dt_boxes num : 11, elapse : 0.07036948204040527\n",
      "[2023/03/09 02:22:20] ppocr DEBUG: rec_res num  : 11, elapse : 0.9602131843566895\n",
      "{'address': {'address': 1.0, 'addrest': 0.9, 'adpress': 0.9}, 'Vaddress': {'address': 0.96}, 'V': {'a': 0.0, 'b': 0.0, 'c': 0.0, 'd': 0.0, 'e': 0.0}}\n",
      "['V', 'address']\n",
      "0.5\n",
      "['Vaddress']\n",
      "0.96\n",
      "{'Vaddress2': {}, 'V': {'a': 0.0, 'b': 0.0, 'c': 0.0, 'd': 0.0, 'e': 0.0}, 'address2': {'address': 0.96}}\n",
      "['V', 'address2']\n",
      "0.48\n",
      "['Vaddress2']\n",
      "0.0\n",
      "{'Vpostal': {'postal': 0.95}, 'V': {'a': 0.0, 'b': 0.0, 'c': 0.0, 'd': 0.0, 'e': 0.0}, 'postal': {'postal': 1.0, 'bostal': 0.89, 'costal': 0.89, 'postil': 0.89, 'postals': 0.95}}\n",
      "['V', 'postal']\n",
      "0.5\n",
      "['Vpostal']\n",
      "0.95\n"
     ]
    }
   ],
   "source": [
    "all_imgs = {}\n",
    "\n",
    "where_to_search = [\"/home/nacho/TFI-Cazcarra/data/csv/train_diagramas_2023.csv\", \n",
    "                  \"/home/nacho/TFI-Cazcarra/data/csv/test_diagramas_2023.csv\"]\n",
    "\n",
    "\n",
    "for img_path in FILES[3:4]:\n",
    "    img = Image.open(img_path).convert(\"RGB\")\n",
    "    display(img_path, img)\n",
    "    img_arr = img if isinstance(img, np.ndarray) else np.array(img)\n",
    "    tablas, cardinalidades = get_tablas(map_files[img_path], where_to_search)\n",
    "    results_img = []\n",
    "    tablas_dict_svtr = {}\n",
    "    tablas_dict_crnn = {}\n",
    "\n",
    "    preds = predict_ocr(img_arr, tablas[:1], ocr, scale_percent=150)[0]\n",
    "\n",
    "    all_texts = []\n",
    "    for k in preds.keys():\n",
    "        text = [k]\n",
    "        for k,v in preds[k].items():\n",
    "            text.append(k)\n",
    "            text.append(v)\n",
    "        text.append(\"Indexes\")\n",
    "        all_texts.append(text)\n",
    "    all_imgs[img_path] = all_texts "
   ]
  },
  {
   "cell_type": "code",
   "execution_count": null,
   "id": "4642d298",
   "metadata": {},
   "outputs": [],
   "source": [
    "all_ocrs = []\n",
    "\n",
    "for k in sorted(all_imgs):\n",
    "    all_ocrs.append(all_imgs[k])"
   ]
  },
  {
   "cell_type": "code",
   "execution_count": null,
   "id": "97431522",
   "metadata": {
    "scrolled": true
   },
   "outputs": [],
   "source": [
    "all_ocrs"
   ]
  },
  {
   "cell_type": "code",
   "execution_count": 11,
   "id": "9a6ecf80",
   "metadata": {},
   "outputs": [
    {
     "data": {
      "text/plain": [
       "[['address',\n",
       "  'address_id',\n",
       "  'SMALLINT(5)',\n",
       "  'address',\n",
       "  'VARCHAR(50)',\n",
       "  'a_address',\n",
       "  'VARCHAR(50)',\n",
       "  'district',\n",
       "  'VARCHAR(20)',\n",
       "  'city_id',\n",
       "  'SMALLINT',\n",
       "  'postal_code',\n",
       "  'VARCHAR(10)',\n",
       "  'phone',\n",
       "  'VARCHAR(20)',\n",
       "  'last_update',\n",
       "  'TIMESTAMP',\n",
       "  'Indexes']]"
      ]
     },
     "execution_count": 11,
     "metadata": {},
     "output_type": "execute_result"
    }
   ],
   "source": [
    "all_imgs['../data/images_testing/ocr_test4.png']"
   ]
  },
  {
   "cell_type": "code",
   "execution_count": null,
   "id": "223d2847",
   "metadata": {},
   "outputs": [],
   "source": []
  },
  {
   "cell_type": "code",
   "execution_count": null,
   "id": "8e672c70",
   "metadata": {},
   "outputs": [],
   "source": []
  },
  {
   "cell_type": "code",
   "execution_count": null,
   "id": "e093527d",
   "metadata": {},
   "outputs": [],
   "source": []
  },
  {
   "cell_type": "code",
   "execution_count": null,
   "id": "a36529ad",
   "metadata": {},
   "outputs": [],
   "source": []
  },
  {
   "cell_type": "code",
   "execution_count": null,
   "id": "ce48c4ee",
   "metadata": {},
   "outputs": [],
   "source": []
  }
 ],
 "metadata": {
  "kernelspec": {
   "display_name": "Python 3 (ipykernel)",
   "language": "python",
   "name": "python3"
  },
  "language_info": {
   "codemirror_mode": {
    "name": "ipython",
    "version": 3
   },
   "file_extension": ".py",
   "mimetype": "text/x-python",
   "name": "python",
   "nbconvert_exporter": "python",
   "pygments_lexer": "ipython3",
   "version": "3.8.10"
  }
 },
 "nbformat": 4,
 "nbformat_minor": 5
}
