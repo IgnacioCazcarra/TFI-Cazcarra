{
 "cells": [
  {
   "cell_type": "code",
   "execution_count": 1,
   "id": "b03ff90c",
   "metadata": {},
   "outputs": [],
   "source": [
    "import numpy as np\n",
    "import seaborn as sns\n",
    "import matplotlib.pyplot as plt\n",
    "from sklearn.datasets import make_classification, load_iris\n",
    "from sklearn.ensemble import RandomForestClassifier\n",
    "from sklearn.model_selection import train_test_split\n",
    "from sklearn.metrics import precision_score, recall_score, precision_recall_curve, PrecisionRecallDisplay\n",
    "\n",
    "from sklearn import tree"
   ]
  },
  {
   "cell_type": "markdown",
   "id": "43128e49",
   "metadata": {},
   "source": [
    "## Precision Recall Curve plot"
   ]
  },
  {
   "cell_type": "code",
   "execution_count": null,
   "id": "179a9454",
   "metadata": {},
   "outputs": [],
   "source": [
    "x,y = load_iris(return_X_y=True)"
   ]
  },
  {
   "cell_type": "code",
   "execution_count": null,
   "id": "034db59d",
   "metadata": {
    "scrolled": true
   },
   "outputs": [],
   "source": [
    "x_train, x_test, y_train, y_test = train_test_split(x[y < 2],y[y < 2], test_size=0.5, random_state=0)"
   ]
  },
  {
   "cell_type": "code",
   "execution_count": null,
   "id": "2c9bd44e",
   "metadata": {},
   "outputs": [],
   "source": [
    "model = RandomForestClassifier()"
   ]
  },
  {
   "cell_type": "code",
   "execution_count": null,
   "id": "0675a7df",
   "metadata": {},
   "outputs": [],
   "source": [
    "model.fit(x_train, y_train)"
   ]
  },
  {
   "cell_type": "code",
   "execution_count": null,
   "id": "68733c51",
   "metadata": {},
   "outputs": [],
   "source": [
    "THRESHOLD = 0.6\n",
    "\n",
    "preds_proba = model.predict_proba(x_test)\n",
    "preds = (preds_proba[:,1] >= THRESHOLD).astype('int')"
   ]
  },
  {
   "cell_type": "code",
   "execution_count": null,
   "id": "174d7a6b",
   "metadata": {},
   "outputs": [],
   "source": [
    "precision, recall, thresholds = precision_recall_curve(y_test, preds_proba[:,1])"
   ]
  },
  {
   "cell_type": "code",
   "execution_count": null,
   "id": "d6da21cf",
   "metadata": {},
   "outputs": [],
   "source": [
    "fig, ax = plt.subplots(figsize=(6,6), dpi=100)\n",
    "\n",
    "PrecisionRecallDisplay.from_predictions(y_test, preds_proba[:,1], ax=ax, name=\"\")\n",
    "\n",
    "ax.set_xticks(np.arange(0,1.1,0.1))\n",
    "ax.set_yticks(np.arange(0,1.1,0.1))\n",
    "plt.show()"
   ]
  },
  {
   "cell_type": "markdown",
   "id": "24c3302c",
   "metadata": {},
   "source": [
    "## IOU plot"
   ]
  },
  {
   "cell_type": "code",
   "execution_count": 2,
   "id": "d2f44ab9",
   "metadata": {},
   "outputs": [],
   "source": [
    "import cv2\n",
    "import numpy as np\n",
    "import pandas as pd\n",
    "from PIL import Image\n",
    "from IPython.display import display"
   ]
  },
  {
   "cell_type": "code",
   "execution_count": 3,
   "id": "30cf96f8",
   "metadata": {},
   "outputs": [
    {
     "data": {
      "text/plain": [
       "1"
      ]
     },
     "execution_count": 3,
     "metadata": {},
     "output_type": "execute_result"
    }
   ],
   "source": [
    "import random\n",
    "random.randint(0,1)"
   ]
  },
  {
   "cell_type": "code",
   "execution_count": 4,
   "id": "94ed5f4e",
   "metadata": {},
   "outputs": [],
   "source": [
    "IMG_PATH = \"../data/imagenes_diagramas/ERDiagramsMySQL-14.png\""
   ]
  },
  {
   "cell_type": "code",
   "execution_count": 5,
   "id": "51214025",
   "metadata": {},
   "outputs": [],
   "source": [
    "inputImage = cv2.imread(IMG_PATH)\n",
    "inputImage = cv2.cvtColor(inputImage, cv2.COLOR_BGR2RGB)"
   ]
  },
  {
   "cell_type": "code",
   "execution_count": 6,
   "id": "4df0d7c7",
   "metadata": {},
   "outputs": [],
   "source": [
    "ELEMENT_TO_TRAIN=\"diagramas\"\n",
    "PATH = 'C:\\\\Users\\\\Diego\\\\Desktop\\\\TFI-Cazcarra'\n",
    "TRAIN_CSV = f\"{PATH}/data/csv/train_{ELEMENT_TO_TRAIN}.csv\"\n",
    "TEST_CSV = f\"{PATH}/data/csv/test_{ELEMENT_TO_TRAIN}.csv\"\n",
    "VAL_CSV = f\"{PATH}/data/csv/val_{ELEMENT_TO_TRAIN}.csv\""
   ]
  },
  {
   "cell_type": "code",
   "execution_count": 7,
   "id": "1206853e",
   "metadata": {},
   "outputs": [],
   "source": [
    "train = pd.read_csv(TRAIN_CSV)\n",
    "test = pd.read_csv(TEST_CSV)\n",
    "val = pd.read_csv(VAL_CSV)"
   ]
  },
  {
   "cell_type": "code",
   "execution_count": 8,
   "id": "a07f65f5",
   "metadata": {},
   "outputs": [],
   "source": [
    "df = train[train[\"image_path\"].str.contains(IMG_PATH.split(\"/\")[-1])]"
   ]
  },
  {
   "cell_type": "code",
   "execution_count": 100,
   "id": "9c446cd1",
   "metadata": {},
   "outputs": [
    {
     "data": {
      "text/plain": [
       "['b']"
      ]
     },
     "execution_count": 100,
     "metadata": {},
     "output_type": "execute_result"
    }
   ],
   "source": [
    "random.sample([\"a\",\"b\",\"c\"], k=1)"
   ]
  },
  {
   "cell_type": "code",
   "execution_count": 114,
   "id": "248c1899",
   "metadata": {},
   "outputs": [],
   "source": [
    "def print_pred(row, img, color=(0,255,0), thickness=2, text_color=(0,0,0)):\n",
    "    cv2.rectangle(img, (row[\"xmin\"], row[\"ymin\"]), (row[\"xmax\"], row[\"ymax\"]), color, thickness)\n",
    "    \n",
    "    label = row['label']\n",
    "    (w, h), _ = cv2.getTextSize(label, cv2.FONT_HERSHEY_SIMPLEX, 0.5, 1)\n",
    "    \n",
    "    cv2.putText(img, label, (row[\"xmin\"], row[\"ymin\"]),cv2.FONT_HERSHEY_SIMPLEX, 0.5, text_color, 1)\n",
    "    \n",
    "    return img\n",
    "\n",
    "def disturbe_row(row, all_classes, disturbe_class, threshold = 30):\n",
    "    if disturbe_class:\n",
    "        row['label'] = random.sample(list(all_classes), k=1)[0]\n",
    "    row['xmin'] += random.randint(0,threshold)\n",
    "    row['xmax'] += random.randint(0,threshold)\n",
    "    row['ymin'] += random.randint(0,threshold)\n",
    "    row['ymax'] += random.randint(0,threshold)\n",
    "    return row"
   ]
  },
  {
   "cell_type": "code",
   "execution_count": 125,
   "id": "e6e74b3f",
   "metadata": {},
   "outputs": [],
   "source": [
    "imgs = []\n",
    "for i_num in range(3):\n",
    "    input_image = cv2.imread(IMG_PATH)\n",
    "    input_image = cv2.cvtColor(input_image, cv2.COLOR_BGR2RGB)\n",
    "#     original_bboxes = []\n",
    "\n",
    "    for i, row in df.iterrows():\n",
    "        if i_num == 0 and random.randint(0,1) > 0.7:\n",
    "            print_pred(row=row, img=input_image)\n",
    "        if i_num == 1:\n",
    "            print_pred(row=row, img=input_image)\n",
    "            if random.randint(0,1) > 0.6:\n",
    "                disturbed = disturbe_row(row=row, all_classes=df['label'].unique(), disturbe_class=True)\n",
    "                print_pred(row=disturbed, img=input_image)\n",
    "            if random.randint(0,1) > 0.8:    \n",
    "                disturbed = disturbe_row(row=row, all_classes=df['label'].unique(), disturbe_class=False, threshold=15)\n",
    "                print_pred(row=disturbed, img=input_image)\n",
    "        if i_num==2:\n",
    "            print_pred(row=row, img=input_image)\n",
    "    imgs.append(input_image[:280, :340])"
   ]
  },
  {
   "cell_type": "code",
   "execution_count": 126,
   "id": "b5d92741",
   "metadata": {
    "scrolled": false
   },
   "outputs": [
    {
     "data": {
      "image/png": "[encoded data removed]",
      "text/plain": [
       "<Figure size 1200x1200 with 3 Axes>"
      ]
     },
     "metadata": {
      "needs_background": "light"
     },
     "output_type": "display_data"
    }
   ],
   "source": [
    "fig, ax = plt.subplots(1,3, figsize=(6,6), dpi=200)\n",
    "\n",
    "titles = [\"Precision alta - Recall bajo\", \"Precision baja - Recall alto\", \"Precision alta - recall alto\"]\n",
    "\n",
    "for i in range(3):   \n",
    "    ax[i].imshow(imgs[i])\n",
    "    ax[i].set_title(titles[i], fontsize=5)\n",
    "    ax[i].axis('off')\n",
    "plt.show()"
   ]
  },
  {
   "cell_type": "code",
   "execution_count": null,
   "id": "cad8d310",
   "metadata": {},
   "outputs": [],
   "source": []
  },
  {
   "cell_type": "code",
   "execution_count": null,
   "id": "6617e3da",
   "metadata": {},
   "outputs": [],
   "source": []
  },
  {
   "cell_type": "code",
   "execution_count": null,
   "id": "13f150df",
   "metadata": {},
   "outputs": [],
   "source": []
  },
  {
   "cell_type": "code",
   "execution_count": null,
   "id": "ba3457a5",
   "metadata": {},
   "outputs": [],
   "source": []
  },
  {
   "cell_type": "code",
   "execution_count": null,
   "id": "d707bb47",
   "metadata": {},
   "outputs": [],
   "source": []
  },
  {
   "cell_type": "code",
   "execution_count": null,
   "id": "5209edd6",
   "metadata": {},
   "outputs": [],
   "source": [
    "fig, ax = plt.subplots(3, figsize=(6,6), dpi=100)\n",
    "\n",
    "PrecisionRecallDisplay.from_predictions(y_test, preds_proba[:,1], ax=ax, name=\"\")\n",
    "\n",
    "ax.set_xticks(np.arange(0,1.1,0.1))\n",
    "ax.set_yticks(np.arange(0,1.1,0.1))\n",
    "plt.show()"
   ]
  },
  {
   "cell_type": "code",
   "execution_count": null,
   "id": "b1ac0611",
   "metadata": {},
   "outputs": [],
   "source": []
  }
 ],
 "metadata": {
  "kernelspec": {
   "display_name": "Python 3 (ipykernel)",
   "language": "python",
   "name": "python3"
  },
  "language_info": {
   "codemirror_mode": {
    "name": "ipython",
    "version": 3
   },
   "file_extension": ".py",
   "mimetype": "text/x-python",
   "name": "python",
   "nbconvert_exporter": "python",
   "pygments_lexer": "ipython3",
   "version": "3.9.12"
  }
 },
 "nbformat": 4,
 "nbformat_minor": 5
}
