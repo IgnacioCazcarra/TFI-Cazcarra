{
 "cells": [
  {
   "cell_type": "code",
   "execution_count": 1,
   "id": "4b75c21a",
   "metadata": {},
   "outputs": [],
   "source": [
    "import pandas as pd"
   ]
  },
  {
   "cell_type": "code",
   "execution_count": 2,
   "id": "4c06348c",
   "metadata": {},
   "outputs": [],
   "source": [
    "train_df = pd.read_csv(\"/home/nacho/TFI-Cazcarra/data/csv/train_diagramas_2023.csv\")\n",
    "test_df = pd.read_csv(\"/home/nacho/TFI-Cazcarra/data/csv/test_diagramas_2023.csv\")"
   ]
  },
  {
   "cell_type": "code",
   "execution_count": 9,
   "id": "0059e43f",
   "metadata": {},
   "outputs": [
    {
     "name": "stdout",
     "output_type": "stream",
     "text": [
      "53\n",
      "377\n"
     ]
    }
   ],
   "source": [
    "print(len(train_df.image_path.unique()))\n",
    "print(train_df[train_df['label']==\"tabla\"].shape[0])"
   ]
  },
  {
   "cell_type": "code",
   "execution_count": 11,
   "id": "9d6efc92",
   "metadata": {},
   "outputs": [
    {
     "name": "stdout",
     "output_type": "stream",
     "text": [
      "24\n",
      "173\n"
     ]
    }
   ],
   "source": [
    "print(len(test_df.image_path.unique()))\n",
    "print(test_df[test_df['label']==\"tabla\"].shape[0])"
   ]
  },
  {
   "cell_type": "code",
   "execution_count": 8,
   "id": "d2f1738f",
   "metadata": {
    "scrolled": true
   },
   "outputs": [
    {
     "data": {
      "text/html": [
       "<div>\n",
       "<style scoped>\n",
       "    .dataframe tbody tr th:only-of-type {\n",
       "        vertical-align: middle;\n",
       "    }\n",
       "\n",
       "    .dataframe tbody tr th {\n",
       "        vertical-align: top;\n",
       "    }\n",
       "\n",
       "    .dataframe thead th {\n",
       "        text-align: right;\n",
       "    }\n",
       "</style>\n",
       "<table border=\"1\" class=\"dataframe\">\n",
       "  <thead>\n",
       "    <tr style=\"text-align: right;\">\n",
       "      <th></th>\n",
       "      <th>image_path</th>\n",
       "      <th>xmin</th>\n",
       "      <th>ymin</th>\n",
       "      <th>xmax</th>\n",
       "      <th>ymax</th>\n",
       "      <th>label</th>\n",
       "    </tr>\n",
       "  </thead>\n",
       "  <tbody>\n",
       "    <tr>\n",
       "      <th>0</th>\n",
       "      <td>/home/nacho/TFI-Cazcarra/data/imagenes_diagram...</td>\n",
       "      <td>7</td>\n",
       "      <td>7</td>\n",
       "      <td>233</td>\n",
       "      <td>362</td>\n",
       "      <td>tabla</td>\n",
       "    </tr>\n",
       "    <tr>\n",
       "      <th>1</th>\n",
       "      <td>/home/nacho/TFI-Cazcarra/data/imagenes_diagram...</td>\n",
       "      <td>346</td>\n",
       "      <td>5</td>\n",
       "      <td>537</td>\n",
       "      <td>522</td>\n",
       "      <td>tabla</td>\n",
       "    </tr>\n",
       "    <tr>\n",
       "      <th>2</th>\n",
       "      <td>/home/nacho/TFI-Cazcarra/data/imagenes_diagram...</td>\n",
       "      <td>864</td>\n",
       "      <td>17</td>\n",
       "      <td>1067</td>\n",
       "      <td>272</td>\n",
       "      <td>tabla</td>\n",
       "    </tr>\n",
       "    <tr>\n",
       "      <th>3</th>\n",
       "      <td>/home/nacho/TFI-Cazcarra/data/imagenes_diagram...</td>\n",
       "      <td>886</td>\n",
       "      <td>329</td>\n",
       "      <td>1044</td>\n",
       "      <td>460</td>\n",
       "      <td>tabla</td>\n",
       "    </tr>\n",
       "    <tr>\n",
       "      <th>4</th>\n",
       "      <td>/home/nacho/TFI-Cazcarra/data/imagenes_diagram...</td>\n",
       "      <td>41</td>\n",
       "      <td>417</td>\n",
       "      <td>200</td>\n",
       "      <td>550</td>\n",
       "      <td>tabla</td>\n",
       "    </tr>\n",
       "    <tr>\n",
       "      <th>...</th>\n",
       "      <td>...</td>\n",
       "      <td>...</td>\n",
       "      <td>...</td>\n",
       "      <td>...</td>\n",
       "      <td>...</td>\n",
       "      <td>...</td>\n",
       "    </tr>\n",
       "    <tr>\n",
       "      <th>1084</th>\n",
       "      <td>/home/nacho/TFI-Cazcarra/data/imagenes_diagram...</td>\n",
       "      <td>467</td>\n",
       "      <td>275</td>\n",
       "      <td>582</td>\n",
       "      <td>396</td>\n",
       "      <td>tabla</td>\n",
       "    </tr>\n",
       "    <tr>\n",
       "      <th>1085</th>\n",
       "      <td>/home/nacho/TFI-Cazcarra/data/imagenes_diagram...</td>\n",
       "      <td>317</td>\n",
       "      <td>361</td>\n",
       "      <td>431</td>\n",
       "      <td>482</td>\n",
       "      <td>tabla</td>\n",
       "    </tr>\n",
       "    <tr>\n",
       "      <th>1086</th>\n",
       "      <td>/home/nacho/TFI-Cazcarra/data/imagenes_diagram...</td>\n",
       "      <td>152</td>\n",
       "      <td>396</td>\n",
       "      <td>300</td>\n",
       "      <td>535</td>\n",
       "      <td>tabla</td>\n",
       "    </tr>\n",
       "    <tr>\n",
       "      <th>1087</th>\n",
       "      <td>/home/nacho/TFI-Cazcarra/data/imagenes_diagram...</td>\n",
       "      <td>7</td>\n",
       "      <td>256</td>\n",
       "      <td>145</td>\n",
       "      <td>434</td>\n",
       "      <td>tabla</td>\n",
       "    </tr>\n",
       "    <tr>\n",
       "      <th>1088</th>\n",
       "      <td>/home/nacho/TFI-Cazcarra/data/imagenes_diagram...</td>\n",
       "      <td>211</td>\n",
       "      <td>176</td>\n",
       "      <td>349</td>\n",
       "      <td>316</td>\n",
       "      <td>tabla</td>\n",
       "    </tr>\n",
       "  </tbody>\n",
       "</table>\n",
       "<p>377 rows × 6 columns</p>\n",
       "</div>"
      ],
      "text/plain": [
       "                                             image_path  xmin  ymin  xmax  \\\n",
       "0     /home/nacho/TFI-Cazcarra/data/imagenes_diagram...     7     7   233   \n",
       "1     /home/nacho/TFI-Cazcarra/data/imagenes_diagram...   346     5   537   \n",
       "2     /home/nacho/TFI-Cazcarra/data/imagenes_diagram...   864    17  1067   \n",
       "3     /home/nacho/TFI-Cazcarra/data/imagenes_diagram...   886   329  1044   \n",
       "4     /home/nacho/TFI-Cazcarra/data/imagenes_diagram...    41   417   200   \n",
       "...                                                 ...   ...   ...   ...   \n",
       "1084  /home/nacho/TFI-Cazcarra/data/imagenes_diagram...   467   275   582   \n",
       "1085  /home/nacho/TFI-Cazcarra/data/imagenes_diagram...   317   361   431   \n",
       "1086  /home/nacho/TFI-Cazcarra/data/imagenes_diagram...   152   396   300   \n",
       "1087  /home/nacho/TFI-Cazcarra/data/imagenes_diagram...     7   256   145   \n",
       "1088  /home/nacho/TFI-Cazcarra/data/imagenes_diagram...   211   176   349   \n",
       "\n",
       "      ymax  label  \n",
       "0      362  tabla  \n",
       "1      522  tabla  \n",
       "2      272  tabla  \n",
       "3      460  tabla  \n",
       "4      550  tabla  \n",
       "...    ...    ...  \n",
       "1084   396  tabla  \n",
       "1085   482  tabla  \n",
       "1086   535  tabla  \n",
       "1087   434  tabla  \n",
       "1088   316  tabla  \n",
       "\n",
       "[377 rows x 6 columns]"
      ]
     },
     "execution_count": 8,
     "metadata": {},
     "output_type": "execute_result"
    }
   ],
   "source": [
    "train_df[train_df['label']==\"tabla\"]"
   ]
  },
  {
   "cell_type": "code",
   "execution_count": 2,
   "id": "b1382f6b",
   "metadata": {},
   "outputs": [],
   "source": [
    "train_df2 = pd.read_csv(\"/home/nacho/TFI-Cazcarra/data/tiles/train_cardinalidades_2023_fixed.csv\")\n",
    "test_df2 = pd.read_csv(\"/home/nacho/TFI-Cazcarra/data/tiles/test_cardinalidades_2023_fixed.csv\")"
   ]
  },
  {
   "cell_type": "code",
   "execution_count": 5,
   "id": "c5824722",
   "metadata": {},
   "outputs": [
    {
     "name": "stdout",
     "output_type": "stream",
     "text": [
      "296\n",
      "1618\n"
     ]
    }
   ],
   "source": [
    "print(len(train_df2.image_path.unique()))\n",
    "print(train_df2.label.count())"
   ]
  },
  {
   "cell_type": "code",
   "execution_count": 12,
   "id": "36c88f9c",
   "metadata": {},
   "outputs": [
    {
     "name": "stdout",
     "output_type": "stream",
     "text": [
      "139\n",
      "787\n"
     ]
    }
   ],
   "source": [
    "print(len(test_df2.image_path.unique()))\n",
    "print(test_df2.label.count())"
   ]
  },
  {
   "cell_type": "code",
   "execution_count": 14,
   "id": "a35ba9a2",
   "metadata": {},
   "outputs": [
    {
     "data": {
      "text/plain": [
       "uno_obligatorio       645\n",
       "muchos_obligatorio    551\n",
       "uno_opcional          235\n",
       "muchos_opcional       187\n",
       "Name: label, dtype: int64"
      ]
     },
     "execution_count": 14,
     "metadata": {},
     "output_type": "execute_result"
    }
   ],
   "source": [
    "train_df2.label.value_counts()"
   ]
  },
  {
   "cell_type": "code",
   "execution_count": null,
   "id": "c5e4b7b2",
   "metadata": {},
   "outputs": [],
   "source": [
    "train_df2.label.value_counts()"
   ]
  }
 ],
 "metadata": {
  "kernelspec": {
   "display_name": "Python 3 (ipykernel)",
   "language": "python",
   "name": "python3"
  },
  "language_info": {
   "codemirror_mode": {
    "name": "ipython",
    "version": 3
   },
   "file_extension": ".py",
   "mimetype": "text/x-python",
   "name": "python",
   "nbconvert_exporter": "python",
   "pygments_lexer": "ipython3",
   "version": "3.8.10"
  }
 },
 "nbformat": 4,
 "nbformat_minor": 5
}
