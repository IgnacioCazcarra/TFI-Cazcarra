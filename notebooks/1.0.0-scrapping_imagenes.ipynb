{
 "cells": [
  {
   "cell_type": "code",
   "execution_count": null,
   "id": "069f170a",
   "metadata": {},
   "outputs": [],
   "source": [
    "! pip install GoogleImageScraper"
   ]
  },
  {
   "cell_type": "code",
   "execution_count": null,
   "id": "271fe63f",
   "metadata": {},
   "outputs": [],
   "source": [
    "!pip install Pillow"
   ]
  },
  {
   "cell_type": "code",
   "execution_count": 1,
   "id": "4b7d763a",
   "metadata": {},
   "outputs": [],
   "source": [
    "import GoogleImageScraper\n",
    "\n",
    "GOOGLE_SEARCH = [\"ER Diagrams MySQL\",\"mysql workbench diagramas entidad relacion\"]\n",
    "LIMIT = 50\n",
    "ARGS = {\"download_format\":\"png\", \"directory\":\"../data/imagenes_diagramas\", \"timeout\":\"30\", \"verbose\":True}"
   ]
  },
  {
   "cell_type": "code",
   "execution_count": null,
   "id": "22e39662",
   "metadata": {},
   "outputs": [],
   "source": [
    "for search in GOOGLE_SEARCH:\n",
    "    images = GoogleImageScraper.download(query=search, limit=LIMIT, arguments=ARGS)"
   ]
  }
 ],
 "metadata": {
  "kernelspec": {
   "display_name": "Python 3 (ipykernel)",
   "language": "python",
   "name": "python3"
  },
  "language_info": {
   "codemirror_mode": {
    "name": "ipython",
    "version": 3
   },
   "file_extension": ".py",
   "mimetype": "text/x-python",
   "name": "python",
   "nbconvert_exporter": "python",
   "pygments_lexer": "ipython3",
   "version": "3.9.12"
  }
 },
 "nbformat": 4,
 "nbformat_minor": 5
}
